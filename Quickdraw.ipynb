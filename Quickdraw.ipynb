{
  "nbformat": 4,
  "nbformat_minor": 0,
  "metadata": {
    "accelerator": "GPU",
    "colab": {
      "name": "Quickdraw.ipynb",
      "provenance": []
    },
    "kernelspec": {
      "display_name": "Python 3",
      "name": "python3"
    },
    "language_info": {
      "name": "python"
    }
  },
  "cells": [
    {
      "cell_type": "code",
      "metadata": {
        "id": "fvjROtsCvh1U"
      },
      "source": [
        "import json\n",
        "import pandas as pd\n",
        "import h5py\n",
        "import numpy as np\n",
        "import tensorflow as tf\n",
        "import keras\n",
        "from keras.layers import Input, Dense, Dropout, LSTM, Flatten, GRU,TimeDistributed, Conv1D\n",
        "from keras.models import Model, Sequential\n",
        "from keras.optimizers import Adam, SGD\n",
        "from sklearn.model_selection import train_test_split\n",
        "import os\n",
        "import h5py\n",
        "import matplotlib.pyplot as plt\n",
        "from keras import regularizers\n",
        "from tensorflow.keras.regularizers import l1\n",
        "import ast\n",
        "from tqdm import tqdm\n",
        "from sklearn.model_selection import RandomizedSearchCV\n",
        "from scipy.stats import uniform, truncnorm, randint\n",
        "from sklearn.metrics import make_scorer\n",
        "from sklearn.metrics import accuracy_score, precision_score, recall_score\n",
        "from sklearn.model_selection import RepeatedStratifiedKFold\n",
        "from scipy.stats import loguniform\n",
        "from pandas import read_csv\n",
        "from keras.wrappers.scikit_learn import KerasClassifier"
      ],
      "execution_count": null,
      "outputs": []
    },
    {
      "cell_type": "code",
      "metadata": {
        "colab": {
          "base_uri": "https://localhost:8080/"
        },
        "id": "s95iq_U-3-XR",
        "outputId": "5e9bfb11-083f-4bb4-bb4f-a6e0f2f3aa19"
      },
      "source": [
        "from google.colab import drive\n",
        "drive.mount('/drive')"
      ],
      "execution_count": null,
      "outputs": [
        {
          "output_type": "stream",
          "text": [
            "Mounted at /drive\n"
          ],
          "name": "stdout"
        }
      ]
    },
    {
      "cell_type": "code",
      "metadata": {
        "id": "QxEFy6wAv1xh"
      },
      "source": [
        "X_train = np.load('/drive/Shareddrives/Jet Classification/Data/Quickdraw/X_train.npy', allow_pickle=True)\n",
        "X_test = np.load('/drive/Shareddrives/Jet Classification/Data/Quickdraw/X_test.npy', allow_pickle=True)\n",
        "y_train = np.load('/drive/Shareddrives/Jet Classification/Data/Quickdraw/y_train.npy', allow_pickle=True)\n",
        "y_test = np.load('/drive/Shareddrives/Jet Classification/Data/Quickdraw/y_test.npy', allow_pickle=True)"
      ],
      "execution_count": null,
      "outputs": []
    },
    {
      "cell_type": "code",
      "metadata": {
        "colab": {
          "base_uri": "https://localhost:8080/"
        },
        "id": "-3bdFAtl00XG",
        "outputId": "dd18d679-f1a1-46bd-e97c-8024c8742ca0"
      },
      "source": [
        "X_train.shape"
      ],
      "execution_count": null,
      "outputs": [
        {
          "output_type": "execute_result",
          "data": {
            "text/plain": [
              "(549509,)"
            ]
          },
          "metadata": {
            "tags": []
          },
          "execution_count": 7
        }
      ]
    },
    {
      "cell_type": "code",
      "metadata": {
        "id": "_9oJEbjI0tCm"
      },
      "source": [
        "X_trainzero = np.zeros((549509,100,3))"
      ],
      "execution_count": null,
      "outputs": []
    },
    {
      "cell_type": "code",
      "metadata": {
        "colab": {
          "base_uri": "https://localhost:8080/"
        },
        "id": "u7Ts0PgE07YL",
        "outputId": "a9c25cc4-6f98-45b7-f25c-fb4f293682ee"
      },
      "source": [
        "\n",
        "for x in tqdm(range(len(X_train))):\n",
        "  for y in range(100):\n",
        "    for z in range(3):\n",
        "      if y >= len(X_train[x]):\n",
        "        break\n",
        "      else:\n",
        "        X_trainzero[x][y][z] = X_train[x][y][z]"
      ],
      "execution_count": null,
      "outputs": [
        {
          "output_type": "stream",
          "text": [
            "100%|██████████| 549509/549509 [02:27<00:00, 3717.73it/s]\n"
          ],
          "name": "stderr"
        }
      ]
    },
    {
      "cell_type": "code",
      "metadata": {
        "id": "NpvZgyiP1fwo"
      },
      "source": [
        "y_labhot = np.zeros((len(y_train),5))"
      ],
      "execution_count": null,
      "outputs": []
    },
    {
      "cell_type": "code",
      "metadata": {
        "colab": {
          "base_uri": "https://localhost:8080/"
        },
        "id": "8yV_dXAl64Zr",
        "outputId": "e5ac48f6-383c-4e26-df29-2bc82ed2e489"
      },
      "source": [
        "y_labhot.shape"
      ],
      "execution_count": null,
      "outputs": [
        {
          "output_type": "execute_result",
          "data": {
            "text/plain": [
              "(549509, 5)"
            ]
          },
          "metadata": {
            "tags": []
          },
          "execution_count": 30
        }
      ]
    },
    {
      "cell_type": "code",
      "metadata": {
        "id": "489hM7jt6eWQ"
      },
      "source": [
        "num = 0\n",
        "for x in y_train:\n",
        "  if x == 0:\n",
        "    y_labhot[num][0] = 1\n",
        "  elif x == 1: \n",
        "    y_labhot[num][1] = 1\n",
        "  elif x == 2: \n",
        "    y_labhot[num][2] = 1\n",
        "  elif x == 3: \n",
        "    y_labhot[num][3] = 1\n",
        "  elif x == 4: \n",
        "    y_labhot[num][4] = 1\n",
        "  num = num + 1"
      ],
      "execution_count": null,
      "outputs": []
    },
    {
      "cell_type": "code",
      "metadata": {
        "colab": {
          "base_uri": "https://localhost:8080/"
        },
        "id": "8sMGnR2b7dOv",
        "outputId": "ae489b07-ed91-43f3-f1a1-27042fcc65e5"
      },
      "source": [
        "y_labhot"
      ],
      "execution_count": null,
      "outputs": [
        {
          "output_type": "execute_result",
          "data": {
            "text/plain": [
              "array([[1., 0., 0., 0., 0.],\n",
              "       [1., 0., 0., 0., 0.],\n",
              "       [1., 0., 0., 0., 0.],\n",
              "       ...,\n",
              "       [0., 0., 0., 0., 1.],\n",
              "       [0., 0., 0., 0., 1.],\n",
              "       [0., 0., 0., 0., 1.]])"
            ]
          },
          "metadata": {
            "tags": []
          },
          "execution_count": 34
        }
      ]
    },
    {
      "cell_type": "markdown",
      "metadata": {
        "id": "9f1QszUbynKQ"
      },
      "source": [
        "# Training"
      ]
    },
    {
      "cell_type": "code",
      "metadata": {
        "id": "gKu4i3pg9ql9"
      },
      "source": [
        "shuffler = np.random.permutation(len(X_trainzero))\n",
        "array1_shuffled = X_trainzero[shuffler]\n",
        "array2_shuffled = y_labhot[shuffler]"
      ],
      "execution_count": null,
      "outputs": []
    },
    {
      "cell_type": "code",
      "metadata": {
        "id": "eanSBfNc9rdU"
      },
      "source": [
        "x, y = unison_shuffled_copies(X_trainzero,y_labhot)"
      ],
      "execution_count": null,
      "outputs": []
    },
    {
      "cell_type": "code",
      "metadata": {
        "colab": {
          "base_uri": "https://localhost:8080/"
        },
        "id": "uJ4p2J5C-Bc3",
        "outputId": "5c62902e-d36f-4426-9ea4-b0f815e7f990"
      },
      "source": [
        "x"
      ],
      "execution_count": null,
      "outputs": [
        {
          "output_type": "execute_result",
          "data": {
            "text/plain": [
              "<KerasTensor: shape=(None, 64) dtype=float32 (created by layer 'lstm_11')>"
            ]
          },
          "metadata": {
            "tags": []
          },
          "execution_count": 54
        }
      ]
    },
    {
      "cell_type": "code",
      "metadata": {
        "colab": {
          "base_uri": "https://localhost:8080/"
        },
        "id": "X3IUP7Jxvkma",
        "outputId": "9c0cb6f9-64c4-49a8-f864-1c35a2d6520b"
      },
      "source": [
        "Inputs = Input(shape = (100,3))\n",
        "x = Conv1D(128,(6),activation='relu')(Inputs)\n",
        "x = Conv1D(64,(3),activation='relu')(x)\n",
        "x = Conv1D(1, (1), activation='relu')(x)\n",
        "x = LSTM(128, return_sequences=True)(x)\n",
        "x = LSTM(64, return_sequences=False)(x)\n",
        "predictions = Dense(5, activation='softmax', kernel_initializer='lecun_uniform', name='rnn_densef')(x)\n",
        "model = Model(inputs=Inputs, outputs=predictions)\n",
        "\n",
        "model.summary()"
      ],
      "execution_count": null,
      "outputs": [
        {
          "output_type": "stream",
          "text": [
            "Model: \"model_7\"\n",
            "_________________________________________________________________\n",
            "Layer (type)                 Output Shape              Param #   \n",
            "=================================================================\n",
            "input_8 (InputLayer)         [(None, 100, 3)]          0         \n",
            "_________________________________________________________________\n",
            "conv1d_21 (Conv1D)           (None, 95, 128)           2432      \n",
            "_________________________________________________________________\n",
            "conv1d_22 (Conv1D)           (None, 93, 64)            24640     \n",
            "_________________________________________________________________\n",
            "conv1d_23 (Conv1D)           (None, 93, 1)             65        \n",
            "_________________________________________________________________\n",
            "lstm_14 (LSTM)               (None, 93, 128)           66560     \n",
            "_________________________________________________________________\n",
            "lstm_15 (LSTM)               (None, 64)                49408     \n",
            "_________________________________________________________________\n",
            "rnn_densef (Dense)           (None, 5)                 325       \n",
            "=================================================================\n",
            "Total params: 143,430\n",
            "Trainable params: 143,430\n",
            "Non-trainable params: 0\n",
            "_________________________________________________________________\n"
          ],
          "name": "stdout"
        }
      ]
    },
    {
      "cell_type": "code",
      "metadata": {
        "id": "FyIRVO-ovpLc"
      },
      "source": [
        "adam = Adam(lr = 0.002)\n",
        "model.compile(optimizer='adam', loss='categorical_crossentropy', metrics=['accuracy'])"
      ],
      "execution_count": null,
      "outputs": []
    },
    {
      "cell_type": "code",
      "metadata": {
        "colab": {
          "base_uri": "https://localhost:8080/"
        },
        "id": "aJohvaBPzc4A",
        "outputId": "daa22a86-dede-4acc-f8d9-676ee993d969"
      },
      "source": [
        "history = model.fit(array1_shuffled, array2_shuffled, batch_size = 256, epochs = 15, \n",
        "                    validation_split = 0.1, shuffle = True, callbacks = None,\n",
        "                    use_multiprocessing=True, workers=4)"
      ],
      "execution_count": null,
      "outputs": [
        {
          "output_type": "stream",
          "text": [
            "Epoch 1/15\n",
            "1932/1932 [==============================] - 41s 21ms/step - loss: 0.2063 - accuracy: 0.9254 - val_loss: 0.2121 - val_accuracy: 0.9243\n",
            "Epoch 2/15\n",
            "1932/1932 [==============================] - 41s 21ms/step - loss: 0.1980 - accuracy: 0.9286 - val_loss: 0.2054 - val_accuracy: 0.9268\n",
            "Epoch 3/15\n",
            "1932/1932 [==============================] - 41s 21ms/step - loss: 0.1912 - accuracy: 0.9307 - val_loss: 0.1993 - val_accuracy: 0.9293\n",
            "Epoch 4/15\n",
            "1932/1932 [==============================] - 41s 21ms/step - loss: 0.1849 - accuracy: 0.9333 - val_loss: 0.2020 - val_accuracy: 0.9278\n",
            "Epoch 5/15\n",
            "1932/1932 [==============================] - 41s 21ms/step - loss: 0.1807 - accuracy: 0.9346 - val_loss: 0.1954 - val_accuracy: 0.9296\n",
            "Epoch 6/15\n",
            "1932/1932 [==============================] - 41s 21ms/step - loss: 0.1756 - accuracy: 0.9364 - val_loss: 0.1924 - val_accuracy: 0.9304\n",
            "Epoch 7/15\n",
            "1932/1932 [==============================] - 41s 21ms/step - loss: 0.1701 - accuracy: 0.9384 - val_loss: 0.1954 - val_accuracy: 0.9292\n",
            "Epoch 8/15\n",
            "1932/1932 [==============================] - 41s 21ms/step - loss: 0.1663 - accuracy: 0.9399 - val_loss: 0.1861 - val_accuracy: 0.9327\n",
            "Epoch 9/15\n",
            "1932/1932 [==============================] - 41s 21ms/step - loss: 0.1620 - accuracy: 0.9412 - val_loss: 0.1903 - val_accuracy: 0.9327\n",
            "Epoch 10/15\n",
            "1932/1932 [==============================] - 41s 21ms/step - loss: 0.1598 - accuracy: 0.9421 - val_loss: 0.1870 - val_accuracy: 0.9339\n",
            "Epoch 11/15\n",
            "1932/1932 [==============================] - 41s 21ms/step - loss: 0.1552 - accuracy: 0.9439 - val_loss: 0.1889 - val_accuracy: 0.9316\n",
            "Epoch 12/15\n",
            "1932/1932 [==============================] - 41s 21ms/step - loss: 0.1517 - accuracy: 0.9450 - val_loss: 0.1905 - val_accuracy: 0.9321\n",
            "Epoch 13/15\n",
            "1932/1932 [==============================] - 41s 21ms/step - loss: 0.1488 - accuracy: 0.9459 - val_loss: 0.1849 - val_accuracy: 0.9341\n",
            "Epoch 14/15\n",
            "1932/1932 [==============================] - 41s 21ms/step - loss: 0.1454 - accuracy: 0.9472 - val_loss: 0.1881 - val_accuracy: 0.9334\n",
            "Epoch 15/15\n",
            "1932/1932 [==============================] - 41s 21ms/step - loss: 0.1441 - accuracy: 0.9475 - val_loss: 0.1886 - val_accuracy: 0.9332\n"
          ],
          "name": "stdout"
        }
      ]
    },
    {
      "cell_type": "code",
      "metadata": {
        "id": "hVdAVCOt8JKi"
      },
      "source": [
        "X_testzero = np.zeros((len(X_test),100,3))"
      ],
      "execution_count": null,
      "outputs": []
    },
    {
      "cell_type": "code",
      "metadata": {
        "colab": {
          "base_uri": "https://localhost:8080/"
        },
        "id": "zoV3RbtiD0Kj",
        "outputId": "c691b81c-0c3f-4f72-b85a-39696e056658"
      },
      "source": [
        "X_testzero[0][0][0]"
      ],
      "execution_count": null,
      "outputs": [
        {
          "output_type": "execute_result",
          "data": {
            "text/plain": [
              "0.0"
            ]
          },
          "metadata": {
            "tags": []
          },
          "execution_count": 77
        }
      ]
    },
    {
      "cell_type": "code",
      "metadata": {
        "colab": {
          "base_uri": "https://localhost:8080/"
        },
        "id": "NmPsx_lH8Ifp",
        "outputId": "f855f3a3-40fb-42f2-e4f5-949089661f3e"
      },
      "source": [
        "\n",
        "for x in tqdm(range(len(X_test))):\n",
        "  for y in range(100):\n",
        "    for z in range(3):\n",
        "      if y >= len(X_test[x]):\n",
        "        break\n",
        "      else:\n",
        "        X_testzero[x][y][z] = X_test[x][y][z]"
      ],
      "execution_count": null,
      "outputs": [
        {
          "output_type": "stream",
          "text": [
            "100%|██████████| 12500/12500 [00:03<00:00, 3815.50it/s]\n"
          ],
          "name": "stderr"
        }
      ]
    },
    {
      "cell_type": "code",
      "metadata": {
        "id": "2yyiVyR48S29"
      },
      "source": [
        "y_tlabhot = np.zeros((len(y_test),5))"
      ],
      "execution_count": null,
      "outputs": []
    },
    {
      "cell_type": "code",
      "metadata": {
        "id": "VHDF3UWC8ZXN"
      },
      "source": [
        "num = 0\n",
        "for x in y_test:\n",
        "  if x == 0:\n",
        "    y_tlabhot[num][0] = 1\n",
        "  elif x == 1: \n",
        "    y_tlabhot[num][1] = 1\n",
        "  elif x == 2: \n",
        "    y_tlabhot[num][2] = 1\n",
        "  elif x == 3: \n",
        "    y_tlabhot[num][3] = 1\n",
        "  elif x == 4: \n",
        "    y_tlabhot[num][4] = 1\n",
        "  num = num + 1"
      ],
      "execution_count": null,
      "outputs": []
    },
    {
      "cell_type": "code",
      "metadata": {
        "id": "41W_V3xi4Z6r"
      },
      "source": [
        "import matplotlib.pyplot as plt\n"
      ],
      "execution_count": null,
      "outputs": []
    },
    {
      "cell_type": "code",
      "metadata": {
        "id": "ryVYDa6S4XHt"
      },
      "source": [
        "def learningCurve(history):\n",
        "    plt.figure(figsize=(10,8))\n",
        "    plt.plot(history.history['loss'], linewidth=1)\n",
        "    plt.plot(history.history['val_loss'], linewidth=1)\n",
        "    plt.title('Model Loss over Epochs')\n",
        "    plt.ylabel('Loss')\n",
        "    plt.xlabel('Epoch')\n",
        "    plt.legend(['training sample loss','validation sample loss'])\n",
        "    #plt.savefig('Learning_curve.pdf')\n",
        "    plt.show()\n",
        "    plt.close()"
      ],
      "execution_count": null,
      "outputs": []
    },
    {
      "cell_type": "code",
      "metadata": {
        "id": "nj1eE-DCzgNx",
        "colab": {
          "base_uri": "https://localhost:8080/",
          "height": 513
        },
        "outputId": "1e93d74a-c87b-4460-f86a-329603955102"
      },
      "source": [
        "learningCurve(history)"
      ],
      "execution_count": null,
      "outputs": [
        {
          "output_type": "display_data",
          "data": {
            "image/png": "[encoded data removed]",
            "text/plain": [
              "<Figure size 720x576 with 1 Axes>"
            ]
          },
          "metadata": {
            "tags": [],
            "needs_background": "light"
          }
        }
      ]
    },
    {
      "cell_type": "code",
      "metadata": {
        "id": "ULicPiZ34boz"
      },
      "source": [
        "labels = ['ant', 'bee', 'butterfly', 'mosquito', 'snail']\n"
      ],
      "execution_count": null,
      "outputs": []
    },
    {
      "cell_type": "code",
      "metadata": {
        "id": "AhDHv0qzDU7L"
      },
      "source": [
        "def makeRoc(features_val, labels_val, labels, model, outputDir='', outputSuffix=''):\n",
        "    from sklearn.metrics import roc_curve, auc\n",
        "    labels_pred = model.predict(features_val)\n",
        "    df = pd.DataFrame()\n",
        "    fpr = {}\n",
        "    tpr = {}\n",
        "    auc1 = {}\n",
        "    plt.figure(figsize=(10,8))       \n",
        "    for i, label in enumerate(labels):\n",
        "\n",
        "        df[label] = labels_val[:,i]\n",
        "        df[label + '_pred'] = labels_pred[:,i]\n",
        "        fpr[label], tpr[label], threshold = roc_curve(df[label],df[label+'_pred'])\n",
        "        auc1[label] = auc(fpr[label], tpr[label])\n",
        "        plt.plot(fpr[label],tpr[label],label='%s tagger, AUC = %.1f%%'%(label.replace('j_',''),auc1[label]*100.))\n",
        "        \n",
        "    plt.plot([0, 1], [0, 1], lw=1, color='black', linestyle='--')\n",
        "    #plt.semilogy()\n",
        "    plt.xlabel(\"Background Efficiency\")\n",
        "    plt.ylabel(\"Signal Efficiency\")\n",
        "    plt.xlim([-0.05, 1.05])\n",
        "    plt.ylim(0.001,1.05)\n",
        "    plt.grid(True)\n",
        "    plt.legend(loc='lower right')\n",
        "    plt.figtext(0.25, 0.90,'LSTM ROC Curve',fontweight='bold', wrap=True, horizontalalignment='right', fontsize=14)\n",
        "    #plt.figtext(0.35, 0.90,'preliminary', style='italic', wrap=True, horizontalalignment='center', fontsize=14) \n",
        "    #plt.savefig('%sROC_%s.pdf'%(outputDir, outputSuffix))\n",
        "    return labels_pred"
      ],
      "execution_count": null,
      "outputs": []
    },
    {
      "cell_type": "code",
      "metadata": {
        "colab": {
          "base_uri": "https://localhost:8080/",
          "height": 519
        },
        "id": "YGhBN3koDf4_",
        "outputId": "1ecb09f8-8728-47b5-f717-1f3028b9542c"
      },
      "source": [
        "y_pred = makeRoc(X_testzero, y_tlabhot, labels, model, outputSuffix='two-layer')\n"
      ],
      "execution_count": null,
      "outputs": [
        {
          "output_type": "display_data",
          "data": {
            "image/png": "[encoded data removed]",
            "text/plain": [
              "<Figure size 720x576 with 1 Axes>"
            ]
          },
          "metadata": {
            "tags": [],
            "needs_background": "light"
          }
        }
      ]
    },
    {
      "cell_type": "code",
      "metadata": {
        "id": "ybgUsIvXDnO4"
      },
      "source": [
        "model.save('/drive/Shareddrives/Jet Classification/Data/Quickdraw/Quickdraw5Class.h5')"
      ],
      "execution_count": null,
      "outputs": []
    },
    {
      "cell_type": "code",
      "metadata": {
        "id": "0nKH3JAJEX45"
      },
      "source": [
        ""
      ],
      "execution_count": null,
      "outputs": []
    }
  ]
}