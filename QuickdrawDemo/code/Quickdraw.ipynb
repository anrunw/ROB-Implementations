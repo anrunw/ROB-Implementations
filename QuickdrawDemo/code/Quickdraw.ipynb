{
  "nbformat": 4,
  "nbformat_minor": 0,
  "metadata": {
    "accelerator": "GPU",
    "colab": {
      "name": "Quickdraw.ipynb",
      "provenance": []
    },
    "kernelspec": {
      "display_name": "Python 3",
      "name": "python3"
    },
    "language_info": {
      "name": "python"
    }
  },
  "cells": [
    {
      "cell_type": "code",
      "metadata": {
        "id": "fvjROtsCvh1U"
      },
      "source": [
        "import json\n",
        "import pandas as pd\n",
        "import h5py\n",
        "import numpy as np\n",
        "import tensorflow as tf\n",
        "import keras\n",
        "from keras.layers import Input, Dense, Dropout, LSTM, Flatten, GRU,TimeDistributed, Conv1D, BatchNormalization\n",
        "from keras.models import Model, Sequential\n",
        "from keras.optimizers import Adam, SGD\n",
        "from sklearn.model_selection import train_test_split\n",
        "import os\n",
        "import h5py\n",
        "import matplotlib.pyplot as plt\n",
        "from keras import regularizers\n",
        "from tensorflow.keras.regularizers import l1\n",
        "import ast\n",
        "from tqdm import tqdm\n",
        "from sklearn.model_selection import RandomizedSearchCV\n",
        "from scipy.stats import uniform, truncnorm, randint\n",
        "from sklearn.metrics import make_scorer\n",
        "from sklearn.metrics import accuracy_score, precision_score, recall_score\n",
        "from sklearn.model_selection import RepeatedStratifiedKFold\n",
        "from scipy.stats import loguniform\n",
        "from pandas import read_csv\n",
        "from keras.wrappers.scikit_learn import KerasClassifier"
      ],
      "execution_count": null,
      "outputs": []
    },
    {
      "cell_type": "code",
      "metadata": {
        "colab": {
          "base_uri": "https://localhost:8080/"
        },
        "id": "s95iq_U-3-XR",
        "outputId": "81ea0533-cf3f-45b4-9d0a-9f24eea7e2a4"
      },
      "source": [
        "from google.colab import drive\n",
        "drive.mount('/drive')"
      ],
      "execution_count": null,
      "outputs": [
        {
          "output_type": "stream",
          "text": [
            "Mounted at /drive\n"
          ],
          "name": "stdout"
        }
      ]
    },
    {
      "cell_type": "code",
      "metadata": {
        "id": "QxEFy6wAv1xh"
      },
      "source": [
        "X_train = np.load('/drive/Shareddrives/Jet Classification/Data/Quickdraw/X_train.npy', allow_pickle=True)\n",
        "X_test = np.load('/drive/Shareddrives/Jet Classification/Data/Quickdraw/X_test.npy', allow_pickle=True)\n",
        "y_train = np.load('/drive/Shareddrives/Jet Classification/Data/Quickdraw/y_train.npy', allow_pickle=True)\n",
        "y_test = np.load('/drive/Shareddrives/Jet Classification/Data/Quickdraw/y_test.npy', allow_pickle=True)"
      ],
      "execution_count": null,
      "outputs": []
    },
    {
      "cell_type": "code",
      "metadata": {
        "colab": {
          "base_uri": "https://localhost:8080/"
        },
        "id": "-3bdFAtl00XG",
        "outputId": "57928c43-1619-40a9-fd9e-7bf4919041de"
      },
      "source": [
        "X_train.shape"
      ],
      "execution_count": null,
      "outputs": [
        {
          "output_type": "execute_result",
          "data": {
            "text/plain": [
              "(549509,)"
            ]
          },
          "metadata": {
            "tags": []
          },
          "execution_count": 4
        }
      ]
    },
    {
      "cell_type": "code",
      "metadata": {
        "id": "_9oJEbjI0tCm"
      },
      "source": [
        "X_trainzero = np.zeros((549509,100,3))"
      ],
      "execution_count": null,
      "outputs": []
    },
    {
      "cell_type": "code",
      "metadata": {
        "colab": {
          "base_uri": "https://localhost:8080/"
        },
        "id": "u7Ts0PgE07YL",
        "outputId": "11ba44ee-cdbd-4a79-c437-94cad995f35d"
      },
      "source": [
        "\n",
        "for x in tqdm(range(len(X_train))):\n",
        "  for y in range(100):\n",
        "    for z in range(3):\n",
        "      if y >= len(X_train[x]):\n",
        "        break\n",
        "      else:\n",
        "        X_trainzero[x][y][z] = X_train[x][y][z]"
      ],
      "execution_count": null,
      "outputs": [
        {
          "output_type": "stream",
          "text": [
            "100%|██████████| 549509/549509 [02:25<00:00, 3788.83it/s]\n"
          ],
          "name": "stderr"
        }
      ]
    },
    {
      "cell_type": "code",
      "metadata": {
        "id": "NpvZgyiP1fwo"
      },
      "source": [
        "y_labhot = np.zeros((len(y_train),5))"
      ],
      "execution_count": null,
      "outputs": []
    },
    {
      "cell_type": "code",
      "metadata": {
        "colab": {
          "base_uri": "https://localhost:8080/"
        },
        "id": "8yV_dXAl64Zr",
        "outputId": "a5af0621-6a30-4f8a-c551-69c444341eaa"
      },
      "source": [
        "y_labhot.shape"
      ],
      "execution_count": null,
      "outputs": [
        {
          "output_type": "execute_result",
          "data": {
            "text/plain": [
              "(549509, 5)"
            ]
          },
          "metadata": {
            "tags": []
          },
          "execution_count": 8
        }
      ]
    },
    {
      "cell_type": "code",
      "metadata": {
        "id": "489hM7jt6eWQ"
      },
      "source": [
        "num = 0\n",
        "for x in y_train:\n",
        "  if x == 0:\n",
        "    y_labhot[num][0] = 1\n",
        "  elif x == 1: \n",
        "    y_labhot[num][1] = 1\n",
        "  elif x == 2: \n",
        "    y_labhot[num][2] = 1\n",
        "  elif x == 3: \n",
        "    y_labhot[num][3] = 1\n",
        "  elif x == 4: \n",
        "    y_labhot[num][4] = 1\n",
        "  num = num + 1"
      ],
      "execution_count": null,
      "outputs": []
    },
    {
      "cell_type": "code",
      "metadata": {
        "colab": {
          "base_uri": "https://localhost:8080/"
        },
        "id": "8sMGnR2b7dOv",
        "outputId": "a9d0bf13-1c9f-4c7b-cd48-6d9bf93d7bfd"
      },
      "source": [
        "y_labhot"
      ],
      "execution_count": null,
      "outputs": [
        {
          "output_type": "execute_result",
          "data": {
            "text/plain": [
              "array([[1., 0., 0., 0., 0.],\n",
              "       [1., 0., 0., 0., 0.],\n",
              "       [1., 0., 0., 0., 0.],\n",
              "       ...,\n",
              "       [0., 0., 0., 0., 1.],\n",
              "       [0., 0., 0., 0., 1.],\n",
              "       [0., 0., 0., 0., 1.]])"
            ]
          },
          "metadata": {
            "tags": []
          },
          "execution_count": 10
        }
      ]
    },
    {
      "cell_type": "markdown",
      "metadata": {
        "id": "9f1QszUbynKQ"
      },
      "source": [
        "# Training"
      ]
    },
    {
      "cell_type": "code",
      "metadata": {
        "id": "gKu4i3pg9ql9"
      },
      "source": [
        "shuffler = np.random.permutation(len(X_trainzero))\n",
        "array1_shuffled = X_trainzero[shuffler]\n",
        "array2_shuffled = y_labhot[shuffler]"
      ],
      "execution_count": null,
      "outputs": []
    },
    {
      "cell_type": "code",
      "metadata": {
        "colab": {
          "base_uri": "https://localhost:8080/"
        },
        "id": "X3IUP7Jxvkma",
        "outputId": "34e5c419-6b0f-4c4f-a3ed-82254d884952"
      },
      "source": [
        "Inputs = Input(shape = (100,3))\n",
        "x = Conv1D(128,(6),activation='relu')(Inputs)\n",
        "x = Conv1D(64,(3),activation='relu')(x)\n",
        "x = Conv1D(1, (1), activation='relu')(x)\n",
        "x = LSTM(128, return_sequences=True)(x)\n",
        "x = Dropout(rate = 0.5)(x)\n",
        "x = LSTM(64, return_sequences=False)(x)\n",
        "predictions = Dense(5, activation='softmax', kernel_initializer='lecun_uniform', name='rnn_densef')(x)\n",
        "model = Model(inputs=Inputs, outputs=predictions)\n",
        "\n",
        "model.summary()"
      ],
      "execution_count": null,
      "outputs": [
        {
          "output_type": "stream",
          "text": [
            "Model: \"model_11\"\n",
            "_________________________________________________________________\n",
            "Layer (type)                 Output Shape              Param #   \n",
            "=================================================================\n",
            "input_17 (InputLayer)        [(None, 100, 3)]          0         \n",
            "_________________________________________________________________\n",
            "conv1d_18 (Conv1D)           (None, 95, 128)           2432      \n",
            "_________________________________________________________________\n",
            "conv1d_19 (Conv1D)           (None, 93, 64)            24640     \n",
            "_________________________________________________________________\n",
            "conv1d_20 (Conv1D)           (None, 93, 1)             65        \n",
            "_________________________________________________________________\n",
            "lstm_1 (LSTM)                (None, 93, 128)           66560     \n",
            "_________________________________________________________________\n",
            "dropout_13 (Dropout)         (None, 93, 128)           0         \n",
            "_________________________________________________________________\n",
            "lstm_2 (LSTM)                (None, 64)                49408     \n",
            "_________________________________________________________________\n",
            "rnn_densef (Dense)           (None, 5)                 325       \n",
            "=================================================================\n",
            "Total params: 143,430\n",
            "Trainable params: 143,430\n",
            "Non-trainable params: 0\n",
            "_________________________________________________________________\n"
          ],
          "name": "stdout"
        }
      ]
    },
    {
      "cell_type": "code",
      "metadata": {
        "id": "FyIRVO-ovpLc"
      },
      "source": [
        "adam = Adam(lr = 0.001)\n",
        "model.compile(optimizer='adam', loss='categorical_crossentropy', metrics=['accuracy'])"
      ],
      "execution_count": null,
      "outputs": []
    },
    {
      "cell_type": "code",
      "metadata": {
        "id": "VBWMX117AQTE"
      },
      "source": [
        ""
      ],
      "execution_count": null,
      "outputs": []
    },
    {
      "cell_type": "code",
      "metadata": {
        "colab": {
          "base_uri": "https://localhost:8080/"
        },
        "id": "aJohvaBPzc4A",
        "outputId": "43917167-6c41-4e51-b42c-de909a5f3dd8"
      },
      "source": [
        "history = model.fit(array1_shuffled, array2_shuffled, batch_size = 512, epochs = 50, \n",
        "                    validation_split = 0.2, shuffle = True, callbacks = None,\n",
        "                    use_multiprocessing=True, workers=4)"
      ],
      "execution_count": null,
      "outputs": [
        {
          "output_type": "stream",
          "text": [
            "Epoch 1/50\n",
            "859/859 [==============================] - 36s 39ms/step - loss: 1.0394 - accuracy: 0.5505 - val_loss: 0.5241 - val_accuracy: 0.8058\n",
            "Epoch 2/50\n",
            "859/859 [==============================] - 33s 38ms/step - loss: 0.5137 - accuracy: 0.8085 - val_loss: 0.4294 - val_accuracy: 0.8400\n",
            "Epoch 3/50\n",
            "859/859 [==============================] - 33s 38ms/step - loss: 0.4116 - accuracy: 0.8491 - val_loss: 0.3610 - val_accuracy: 0.8672\n",
            "Epoch 4/50\n",
            "859/859 [==============================] - 33s 38ms/step - loss: 0.3602 - accuracy: 0.8683 - val_loss: 0.3352 - val_accuracy: 0.8784\n",
            "Epoch 5/50\n",
            "859/859 [==============================] - 33s 38ms/step - loss: 0.3259 - accuracy: 0.8807 - val_loss: 0.3278 - val_accuracy: 0.8760\n",
            "Epoch 6/50\n",
            "859/859 [==============================] - 33s 38ms/step - loss: 0.3016 - accuracy: 0.8895 - val_loss: 0.2882 - val_accuracy: 0.8939\n",
            "Epoch 7/50\n",
            "859/859 [==============================] - 33s 38ms/step - loss: 0.2816 - accuracy: 0.8965 - val_loss: 0.2665 - val_accuracy: 0.9035\n",
            "Epoch 8/50\n",
            "859/859 [==============================] - 33s 38ms/step - loss: 0.2677 - accuracy: 0.9027 - val_loss: 0.2679 - val_accuracy: 0.9033\n",
            "Epoch 9/50\n",
            "859/859 [==============================] - 33s 38ms/step - loss: 0.2564 - accuracy: 0.9068 - val_loss: 0.2487 - val_accuracy: 0.9107\n",
            "Epoch 10/50\n",
            "859/859 [==============================] - 32s 38ms/step - loss: 0.2437 - accuracy: 0.9118 - val_loss: 0.2480 - val_accuracy: 0.9101\n",
            "Epoch 11/50\n",
            "859/859 [==============================] - 33s 38ms/step - loss: 0.2330 - accuracy: 0.9149 - val_loss: 0.2311 - val_accuracy: 0.9165\n",
            "Epoch 12/50\n",
            "859/859 [==============================] - 33s 38ms/step - loss: 0.2283 - accuracy: 0.9178 - val_loss: 0.2244 - val_accuracy: 0.9194\n",
            "Epoch 13/50\n",
            "859/859 [==============================] - 33s 38ms/step - loss: 0.2192 - accuracy: 0.9204 - val_loss: 0.2271 - val_accuracy: 0.9194\n",
            "Epoch 14/50\n",
            "859/859 [==============================] - 32s 38ms/step - loss: 0.2148 - accuracy: 0.9221 - val_loss: 0.2177 - val_accuracy: 0.9227\n",
            "Epoch 15/50\n",
            "859/859 [==============================] - 32s 38ms/step - loss: 0.2078 - accuracy: 0.9250 - val_loss: 0.2129 - val_accuracy: 0.9235\n",
            "Epoch 16/50\n",
            "859/859 [==============================] - 33s 38ms/step - loss: 0.2034 - accuracy: 0.9260 - val_loss: 0.2204 - val_accuracy: 0.9210\n",
            "Epoch 17/50\n",
            "859/859 [==============================] - 33s 38ms/step - loss: 0.2011 - accuracy: 0.9272 - val_loss: 0.2108 - val_accuracy: 0.9250\n",
            "Epoch 18/50\n",
            "859/859 [==============================] - 33s 38ms/step - loss: 0.1950 - accuracy: 0.9292 - val_loss: 0.2187 - val_accuracy: 0.9224\n",
            "Epoch 19/50\n",
            "859/859 [==============================] - 33s 38ms/step - loss: 0.1912 - accuracy: 0.9306 - val_loss: 0.2119 - val_accuracy: 0.9245\n",
            "Epoch 20/50\n",
            "859/859 [==============================] - 33s 38ms/step - loss: 0.1877 - accuracy: 0.9322 - val_loss: 0.2048 - val_accuracy: 0.9275\n",
            "Epoch 21/50\n",
            "859/859 [==============================] - 33s 38ms/step - loss: 0.1842 - accuracy: 0.9332 - val_loss: 0.1969 - val_accuracy: 0.9292\n",
            "Epoch 22/50\n",
            "859/859 [==============================] - 33s 38ms/step - loss: 0.1824 - accuracy: 0.9340 - val_loss: 0.2011 - val_accuracy: 0.9290\n",
            "Epoch 23/50\n",
            "859/859 [==============================] - 33s 38ms/step - loss: 0.1772 - accuracy: 0.9356 - val_loss: 0.1986 - val_accuracy: 0.9292\n",
            "Epoch 24/50\n",
            "859/859 [==============================] - 33s 38ms/step - loss: 0.1754 - accuracy: 0.9363 - val_loss: 0.2029 - val_accuracy: 0.9291\n",
            "Epoch 25/50\n",
            "859/859 [==============================] - 32s 38ms/step - loss: 0.1721 - accuracy: 0.9374 - val_loss: 0.2014 - val_accuracy: 0.9277\n",
            "Epoch 26/50\n",
            "859/859 [==============================] - 33s 38ms/step - loss: 0.1700 - accuracy: 0.9379 - val_loss: 0.1991 - val_accuracy: 0.9302\n",
            "Epoch 27/50\n",
            "859/859 [==============================] - 33s 38ms/step - loss: 0.1666 - accuracy: 0.9397 - val_loss: 0.1956 - val_accuracy: 0.9301\n",
            "Epoch 28/50\n",
            "859/859 [==============================] - 33s 38ms/step - loss: 0.1630 - accuracy: 0.9412 - val_loss: 0.1978 - val_accuracy: 0.9314\n",
            "Epoch 29/50\n",
            "859/859 [==============================] - 33s 38ms/step - loss: 0.1619 - accuracy: 0.9409 - val_loss: 0.1998 - val_accuracy: 0.9298\n",
            "Epoch 30/50\n",
            "859/859 [==============================] - 33s 38ms/step - loss: 0.1605 - accuracy: 0.9415 - val_loss: 0.1919 - val_accuracy: 0.9321\n",
            "Epoch 31/50\n",
            "859/859 [==============================] - 33s 39ms/step - loss: 0.1566 - accuracy: 0.9436 - val_loss: 0.1951 - val_accuracy: 0.9314\n",
            "Epoch 32/50\n",
            "859/859 [==============================] - 33s 39ms/step - loss: 0.1561 - accuracy: 0.9441 - val_loss: 0.1983 - val_accuracy: 0.9306\n",
            "Epoch 33/50\n",
            "859/859 [==============================] - 33s 39ms/step - loss: 0.1543 - accuracy: 0.9443 - val_loss: 0.1958 - val_accuracy: 0.9314\n",
            "Epoch 34/50\n",
            "859/859 [==============================] - 33s 39ms/step - loss: 0.1518 - accuracy: 0.9445 - val_loss: 0.1954 - val_accuracy: 0.9322\n",
            "Epoch 35/50\n",
            "859/859 [==============================] - 33s 39ms/step - loss: 0.1493 - accuracy: 0.9455 - val_loss: 0.1952 - val_accuracy: 0.9317\n",
            "Epoch 36/50\n",
            "859/859 [==============================] - 33s 39ms/step - loss: 0.1463 - accuracy: 0.9468 - val_loss: 0.1954 - val_accuracy: 0.9315\n",
            "Epoch 37/50\n",
            "859/859 [==============================] - 33s 38ms/step - loss: 0.1465 - accuracy: 0.9465 - val_loss: 0.1976 - val_accuracy: 0.9313\n",
            "Epoch 38/50\n",
            "859/859 [==============================] - 33s 39ms/step - loss: 0.1442 - accuracy: 0.9476 - val_loss: 0.1971 - val_accuracy: 0.9323\n",
            "Epoch 39/50\n",
            "859/859 [==============================] - 33s 38ms/step - loss: 0.1433 - accuracy: 0.9477 - val_loss: 0.1999 - val_accuracy: 0.9302\n",
            "Epoch 40/50\n",
            "859/859 [==============================] - 33s 39ms/step - loss: 0.1422 - accuracy: 0.9484 - val_loss: 0.1963 - val_accuracy: 0.9324\n",
            "Epoch 41/50\n",
            "859/859 [==============================] - 33s 39ms/step - loss: 0.1390 - accuracy: 0.9492 - val_loss: 0.1953 - val_accuracy: 0.9309\n",
            "Epoch 42/50\n",
            "859/859 [==============================] - 33s 39ms/step - loss: 0.1398 - accuracy: 0.9492 - val_loss: 0.1965 - val_accuracy: 0.9326\n",
            "Epoch 43/50\n",
            "859/859 [==============================] - 33s 39ms/step - loss: 0.1364 - accuracy: 0.9503 - val_loss: 0.1992 - val_accuracy: 0.9320\n",
            "Epoch 44/50\n",
            "859/859 [==============================] - 33s 39ms/step - loss: 0.1351 - accuracy: 0.9506 - val_loss: 0.2019 - val_accuracy: 0.9312\n",
            "Epoch 45/50\n",
            "859/859 [==============================] - 33s 39ms/step - loss: 0.1331 - accuracy: 0.9511 - val_loss: 0.2021 - val_accuracy: 0.9321\n",
            "Epoch 46/50\n",
            "859/859 [==============================] - 33s 39ms/step - loss: 0.1314 - accuracy: 0.9517 - val_loss: 0.2000 - val_accuracy: 0.9315\n",
            "Epoch 47/50\n",
            "859/859 [==============================] - 33s 39ms/step - loss: 0.1311 - accuracy: 0.9520 - val_loss: 0.2056 - val_accuracy: 0.9301\n",
            "Epoch 48/50\n",
            "859/859 [==============================] - 33s 38ms/step - loss: 0.1296 - accuracy: 0.9530 - val_loss: 0.2086 - val_accuracy: 0.9314\n",
            "Epoch 49/50\n",
            "859/859 [==============================] - 33s 39ms/step - loss: 0.1277 - accuracy: 0.9535 - val_loss: 0.2044 - val_accuracy: 0.9315\n",
            "Epoch 50/50\n",
            "859/859 [==============================] - 33s 39ms/step - loss: 0.1259 - accuracy: 0.9541 - val_loss: 0.2091 - val_accuracy: 0.9309\n"
          ],
          "name": "stdout"
        }
      ]
    },
    {
      "cell_type": "code",
      "metadata": {
        "id": "hVdAVCOt8JKi"
      },
      "source": [
        "X_testzero = np.zeros((len(X_test),100,3))"
      ],
      "execution_count": null,
      "outputs": []
    },
    {
      "cell_type": "code",
      "metadata": {
        "colab": {
          "base_uri": "https://localhost:8080/"
        },
        "id": "zoV3RbtiD0Kj",
        "outputId": "f68ee8f8-e90e-4561-e6f7-c3a7bf8c5816"
      },
      "source": [
        "X_testzero[0][0][0]"
      ],
      "execution_count": null,
      "outputs": [
        {
          "output_type": "execute_result",
          "data": {
            "text/plain": [
              "0.0"
            ]
          },
          "metadata": {
            "tags": []
          },
          "execution_count": 52
        }
      ]
    },
    {
      "cell_type": "code",
      "metadata": {
        "colab": {
          "base_uri": "https://localhost:8080/"
        },
        "id": "NmPsx_lH8Ifp",
        "outputId": "6c9a102e-8013-4082-bd50-9279fc231299"
      },
      "source": [
        "\n",
        "for x in tqdm(range(len(X_test))):\n",
        "  for y in range(100):\n",
        "    for z in range(3):\n",
        "      if y >= len(X_test[x]):\n",
        "        break\n",
        "      else:\n",
        "        X_testzero[x][y][z] = X_test[x][y][z]"
      ],
      "execution_count": null,
      "outputs": [
        {
          "output_type": "stream",
          "text": [
            "100%|██████████| 12500/12500 [00:03<00:00, 3884.70it/s]\n"
          ],
          "name": "stderr"
        }
      ]
    },
    {
      "cell_type": "code",
      "metadata": {
        "id": "2yyiVyR48S29"
      },
      "source": [
        "y_tlabhot = np.zeros((len(y_test),5))"
      ],
      "execution_count": null,
      "outputs": []
    },
    {
      "cell_type": "code",
      "metadata": {
        "id": "VHDF3UWC8ZXN"
      },
      "source": [
        "num = 0\n",
        "for x in y_test:\n",
        "  if x == 0:\n",
        "    y_tlabhot[num][0] = 1\n",
        "  elif x == 1: \n",
        "    y_tlabhot[num][1] = 1\n",
        "  elif x == 2: \n",
        "    y_tlabhot[num][2] = 1\n",
        "  elif x == 3: \n",
        "    y_tlabhot[num][3] = 1\n",
        "  elif x == 4: \n",
        "    y_tlabhot[num][4] = 1\n",
        "  num = num + 1"
      ],
      "execution_count": null,
      "outputs": []
    },
    {
      "cell_type": "code",
      "metadata": {
        "id": "41W_V3xi4Z6r"
      },
      "source": [
        "import matplotlib.pyplot as plt\n"
      ],
      "execution_count": null,
      "outputs": []
    },
    {
      "cell_type": "code",
      "metadata": {
        "id": "ryVYDa6S4XHt"
      },
      "source": [
        "def learningCurve(history):\n",
        "    plt.figure(figsize=(10,8))\n",
        "    plt.plot(history.history['loss'], linewidth=1)\n",
        "    plt.plot(history.history['val_loss'], linewidth=1)\n",
        "    plt.title('Model Loss over Epochs')\n",
        "    plt.ylabel('Loss')\n",
        "    plt.xlabel('Epoch')\n",
        "    plt.legend(['training sample loss','validation sample loss'])\n",
        "    #plt.savefig('Learning_curve.pdf')\n",
        "    plt.show()\n",
        "    plt.close()"
      ],
      "execution_count": null,
      "outputs": []
    },
    {
      "cell_type": "code",
      "metadata": {
        "id": "nj1eE-DCzgNx",
        "colab": {
          "base_uri": "https://localhost:8080/",
          "height": 513
        },
        "outputId": "43b3cb5e-2f42-4577-ccf0-5c30a62a3f44"
      },
      "source": [
        "learningCurve(history)"
      ],
      "execution_count": null,
      "outputs": [
        {
          "output_type": "display_data",
          "data": {
            "image/png": "[encoded data removed]",
            "text/plain": [
              "<Figure size 720x576 with 1 Axes>"
            ]
          },
          "metadata": {
            "tags": [],
            "needs_background": "light"
          }
        }
      ]
    },
    {
      "cell_type": "code",
      "metadata": {
        "id": "ULicPiZ34boz"
      },
      "source": [
        "labels = ['ant', 'bee', 'butterfly', 'mosquito', 'snail']\n"
      ],
      "execution_count": null,
      "outputs": []
    },
    {
      "cell_type": "code",
      "metadata": {
        "id": "AhDHv0qzDU7L"
      },
      "source": [
        "def makeRoc(features_val, labels_val, labels, model, outputDir='', outputSuffix=''):\n",
        "    from sklearn.metrics import roc_curve, auc\n",
        "    labels_pred = model.predict(features_val)\n",
        "    df = pd.DataFrame()\n",
        "    fpr = {}\n",
        "    tpr = {}\n",
        "    auc1 = {}\n",
        "    plt.figure(figsize=(10,8))       \n",
        "    for i, label in enumerate(labels):\n",
        "\n",
        "        df[label] = labels_val[:,i]\n",
        "        df[label + '_pred'] = labels_pred[:,i]\n",
        "        fpr[label], tpr[label], threshold = roc_curve(df[label],df[label+'_pred'])\n",
        "        auc1[label] = auc(fpr[label], tpr[label])\n",
        "        plt.plot(fpr[label],tpr[label],label='%s tagger, AUC = %.1f%%'%(label.replace('j_',''),auc1[label]*100.))\n",
        "        \n",
        "    plt.plot([0, 1], [0, 1], lw=1, color='black', linestyle='--')\n",
        "    #plt.semilogy()\n",
        "    plt.xlabel(\"Background Efficiency\")\n",
        "    plt.ylabel(\"Signal Efficiency\")\n",
        "    plt.xlim([-0.05, 1.05])\n",
        "    plt.ylim(0.001,1.05)\n",
        "    plt.grid(True)\n",
        "    plt.legend(loc='lower right')\n",
        "    plt.figtext(0.25, 0.90,'LSTM ROC Curve',fontweight='bold', wrap=True, horizontalalignment='right', fontsize=14)\n",
        "    #plt.figtext(0.35, 0.90,'preliminary', style='italic', wrap=True, horizontalalignment='center', fontsize=14) \n",
        "    #plt.savefig('%sROC_%s.pdf'%(outputDir, outputSuffix))\n",
        "    return labels_pred"
      ],
      "execution_count": null,
      "outputs": []
    },
    {
      "cell_type": "code",
      "metadata": {
        "colab": {
          "base_uri": "https://localhost:8080/",
          "height": 519
        },
        "id": "YGhBN3koDf4_",
        "outputId": "dfc8e3e9-3544-481a-9b00-c386d5adf0da"
      },
      "source": [
        "y_pred = makeRoc(X_testzero, y_tlabhot, labels, model, outputSuffix='two-layer')\n"
      ],
      "execution_count": null,
      "outputs": [
        {
          "output_type": "display_data",
          "data": {
            "image/png": "[encoded data removed]",
            "text/plain": [
              "<Figure size 720x576 with 1 Axes>"
            ]
          },
          "metadata": {
            "tags": [],
            "needs_background": "light"
          }
        }
      ]
    },
    {
      "cell_type": "code",
      "metadata": {
        "id": "ybgUsIvXDnO4"
      },
      "source": [
        "model.save('/drive/Shareddrives/Jet Classification/Data/Quickdraw/Quickdraw5Class1.h5')"
      ],
      "execution_count": null,
      "outputs": []
    },
    {
      "cell_type": "code",
      "metadata": {
        "id": "0nKH3JAJEX45"
      },
      "source": [
        "\n",
        "ant = 0\n",
        "bee = 0\n",
        "butterfly = 0\n",
        "mosquito = 0\n",
        "snail = 0\n",
        "for x in y_test:\n",
        "  if x == 0:\n",
        "    ant = ant + 1\n",
        "  elif x == 1:\n",
        "    bee = bee + 1\n",
        "  elif x == 2:\n",
        "    butterfly = butterfly+ 1\n",
        "  elif x==3:\n",
        "    mosquito = mosquito + 1\n",
        "  elif x ==4:\n",
        "    snail = snail + 1 "
      ],
      "execution_count": null,
      "outputs": []
    },
    {
      "cell_type": "code",
      "metadata": {
        "colab": {
          "base_uri": "https://localhost:8080/"
        },
        "id": "YjjwPPdCAMKc",
        "outputId": "eaddaad6-a18a-44e4-a107-883d843c4207"
      },
      "source": [
        "print(ant)\n",
        "print(bee)\n",
        "print(butterfly)\n",
        "print(mosquito)\n",
        "print(snail)"
      ],
      "execution_count": null,
      "outputs": [
        {
          "output_type": "stream",
          "text": [
            "2500\n",
            "2500\n",
            "2500\n",
            "2500\n",
            "2500\n"
          ],
          "name": "stdout"
        }
      ]
    },
    {
      "cell_type": "code",
      "metadata": {
        "id": "IHLx6p5iAzxa"
      },
      "source": [
        "\n",
        "ant = 0\n",
        "bee = 0\n",
        "butterfly = 0\n",
        "mosquito = 0\n",
        "snail = 0\n",
        "for x in y_train:\n",
        "  if x == 0:\n",
        "    ant = ant + 1\n",
        "  elif x == 1:\n",
        "    bee = bee + 1\n",
        "  elif x == 2:\n",
        "    butterfly = butterfly+ 1\n",
        "  elif x==3:\n",
        "    mosquito = mosquito + 1\n",
        "  elif x ==4:\n",
        "    snail = snail + 1 "
      ],
      "execution_count": null,
      "outputs": []
    },
    {
      "cell_type": "code",
      "metadata": {
        "id": "IinbB4qEA17X",
        "colab": {
          "base_uri": "https://localhost:8080/"
        },
        "outputId": "4d61d116-5e7e-4afa-fa2e-afe2b4aaa082"
      },
      "source": [
        "print(ant)\n",
        "print(bee)\n",
        "print(butterfly)\n",
        "print(mosquito)\n",
        "print(snail)"
      ],
      "execution_count": null,
      "outputs": [
        {
          "output_type": "stream",
          "text": [
            "110687\n",
            "107059\n",
            "104288\n",
            "108399\n",
            "119076\n"
          ],
          "name": "stdout"
        }
      ]
    },
    {
      "cell_type": "code",
      "metadata": {
        "id": "vtjIcZQPA4Qw",
        "colab": {
          "base_uri": "https://localhost:8080/"
        },
        "outputId": "0e3d7de1-198b-495d-e45e-01863ea3e0de"
      },
      "source": [
        "Inputs = Input(shape = (100,3))\n",
        "\n",
        "x = GRU(32, return_sequences=True)(Inputs)\n",
        "x = Flatten()(x)\n",
        "x = Dense(32, activation= 'relu')(x)\n",
        "x = Dropout(rate = 0.5)(x)\n",
        "x = Dense(16, activation = 'relu')(x)\n",
        "predictions = Dense(5, activation='softmax', kernel_initializer='lecun_uniform', name='rnn_densef')(x)\n",
        "model = Model(inputs=Inputs, outputs=predictions)\n",
        "\n",
        "model.summary()"
      ],
      "execution_count": null,
      "outputs": [
        {
          "output_type": "stream",
          "text": [
            "Model: \"model_10\"\n",
            "_________________________________________________________________\n",
            "Layer (type)                 Output Shape              Param #   \n",
            "=================================================================\n",
            "input_16 (InputLayer)        [(None, 100, 3)]          0         \n",
            "_________________________________________________________________\n",
            "gru_17 (GRU)                 (None, 100, 32)           3552      \n",
            "_________________________________________________________________\n",
            "flatten_6 (Flatten)          (None, 3200)              0         \n",
            "_________________________________________________________________\n",
            "dense_11 (Dense)             (None, 32)                102432    \n",
            "_________________________________________________________________\n",
            "dropout_12 (Dropout)         (None, 32)                0         \n",
            "_________________________________________________________________\n",
            "dense_12 (Dense)             (None, 16)                528       \n",
            "_________________________________________________________________\n",
            "rnn_densef (Dense)           (None, 5)                 85        \n",
            "=================================================================\n",
            "Total params: 106,597\n",
            "Trainable params: 106,597\n",
            "Non-trainable params: 0\n",
            "_________________________________________________________________\n"
          ],
          "name": "stdout"
        }
      ]
    },
    {
      "cell_type": "code",
      "metadata": {
        "id": "8Vr5VKs8ASHu"
      },
      "source": [
        "adam = Adam(lr = 0.001)\n",
        "model.compile(optimizer='adam', loss='categorical_crossentropy', metrics=['accuracy'])"
      ],
      "execution_count": null,
      "outputs": []
    },
    {
      "cell_type": "code",
      "metadata": {
        "colab": {
          "base_uri": "https://localhost:8080/"
        },
        "id": "PU2DZyjC_pdM",
        "outputId": "43880bb9-2a1c-438a-80a5-886b6862fc93"
      },
      "source": [
        "history = model.fit(array1_shuffled, array2_shuffled, batch_size = 512, epochs = 50, \n",
        "                    validation_split = 0.2, shuffle = True, callbacks = None,\n",
        "                    use_multiprocessing=True, workers=4)"
      ],
      "execution_count": null,
      "outputs": [
        {
          "output_type": "stream",
          "text": [
            "Epoch 1/50\n",
            "859/859 [==============================] - 9s 9ms/step - loss: 0.9972 - accuracy: 0.5911 - val_loss: 0.5012 - val_accuracy: 0.8262\n",
            "Epoch 2/50\n",
            "859/859 [==============================] - 7s 8ms/step - loss: 0.5819 - accuracy: 0.7790 - val_loss: 0.4342 - val_accuracy: 0.8549\n",
            "Epoch 3/50\n",
            "859/859 [==============================] - 7s 8ms/step - loss: 0.5031 - accuracy: 0.8134 - val_loss: 0.4219 - val_accuracy: 0.8652\n",
            "Epoch 4/50\n",
            "859/859 [==============================] - 7s 8ms/step - loss: 0.4472 - accuracy: 0.8378 - val_loss: 0.4191 - val_accuracy: 0.8762\n",
            "Epoch 5/50\n",
            "859/859 [==============================] - 7s 8ms/step - loss: 0.4178 - accuracy: 0.8502 - val_loss: 0.3875 - val_accuracy: 0.8861\n",
            "Epoch 6/50\n",
            "859/859 [==============================] - 7s 8ms/step - loss: 0.3861 - accuracy: 0.8640 - val_loss: 0.4136 - val_accuracy: 0.8838\n",
            "Epoch 7/50\n",
            "859/859 [==============================] - 7s 8ms/step - loss: 0.3677 - accuracy: 0.8706 - val_loss: 0.4283 - val_accuracy: 0.8746\n",
            "Epoch 8/50\n",
            "859/859 [==============================] - 7s 8ms/step - loss: 0.3502 - accuracy: 0.8776 - val_loss: 0.3727 - val_accuracy: 0.8935\n",
            "Epoch 9/50\n",
            "859/859 [==============================] - 7s 8ms/step - loss: 0.3401 - accuracy: 0.8816 - val_loss: 0.3749 - val_accuracy: 0.8996\n",
            "Epoch 10/50\n",
            "859/859 [==============================] - 7s 8ms/step - loss: 0.3279 - accuracy: 0.8862 - val_loss: 0.3581 - val_accuracy: 0.9040\n",
            "Epoch 11/50\n",
            "859/859 [==============================] - 7s 8ms/step - loss: 0.3198 - accuracy: 0.8895 - val_loss: 0.3887 - val_accuracy: 0.8881\n",
            "Epoch 12/50\n",
            "859/859 [==============================] - 7s 8ms/step - loss: 0.3143 - accuracy: 0.8913 - val_loss: 0.3464 - val_accuracy: 0.9028\n",
            "Epoch 13/50\n",
            "859/859 [==============================] - 7s 8ms/step - loss: 0.3054 - accuracy: 0.8952 - val_loss: 0.3348 - val_accuracy: 0.9056\n",
            "Epoch 14/50\n",
            "859/859 [==============================] - 7s 8ms/step - loss: 0.2987 - accuracy: 0.8975 - val_loss: 0.3360 - val_accuracy: 0.9076\n",
            "Epoch 15/50\n",
            "859/859 [==============================] - 7s 8ms/step - loss: 0.2940 - accuracy: 0.8991 - val_loss: 0.3278 - val_accuracy: 0.9073\n",
            "Epoch 16/50\n",
            "859/859 [==============================] - 7s 8ms/step - loss: 0.2913 - accuracy: 0.9000 - val_loss: 0.3500 - val_accuracy: 0.9020\n",
            "Epoch 17/50\n",
            "859/859 [==============================] - 7s 8ms/step - loss: 0.2852 - accuracy: 0.9025 - val_loss: 0.3337 - val_accuracy: 0.9047\n",
            "Epoch 18/50\n",
            "859/859 [==============================] - 7s 8ms/step - loss: 0.2824 - accuracy: 0.9032 - val_loss: 0.3399 - val_accuracy: 0.9027\n",
            "Epoch 19/50\n",
            "859/859 [==============================] - 7s 8ms/step - loss: 0.2748 - accuracy: 0.9061 - val_loss: 0.2996 - val_accuracy: 0.9112\n",
            "Epoch 20/50\n",
            "859/859 [==============================] - 7s 8ms/step - loss: 0.2738 - accuracy: 0.9068 - val_loss: 0.3469 - val_accuracy: 0.8923\n",
            "Epoch 21/50\n",
            "859/859 [==============================] - 7s 8ms/step - loss: 0.2673 - accuracy: 0.9092 - val_loss: 0.3187 - val_accuracy: 0.8960\n",
            "Epoch 22/50\n",
            "859/859 [==============================] - 7s 8ms/step - loss: 0.2655 - accuracy: 0.9095 - val_loss: 0.3231 - val_accuracy: 0.9088\n",
            "Epoch 23/50\n",
            "859/859 [==============================] - 7s 8ms/step - loss: 0.2622 - accuracy: 0.9113 - val_loss: 0.3240 - val_accuracy: 0.9084\n",
            "Epoch 24/50\n",
            "859/859 [==============================] - 7s 8ms/step - loss: 0.2595 - accuracy: 0.9123 - val_loss: 0.3188 - val_accuracy: 0.9008\n",
            "Epoch 25/50\n",
            "859/859 [==============================] - 7s 8ms/step - loss: 0.2575 - accuracy: 0.9123 - val_loss: 0.3139 - val_accuracy: 0.9006\n",
            "Epoch 26/50\n",
            "859/859 [==============================] - 7s 8ms/step - loss: 0.2587 - accuracy: 0.9121 - val_loss: 0.3270 - val_accuracy: 0.8950\n",
            "Epoch 27/50\n",
            "859/859 [==============================] - 7s 8ms/step - loss: 0.2536 - accuracy: 0.9138 - val_loss: 0.3166 - val_accuracy: 0.9090\n",
            "Epoch 28/50\n",
            "859/859 [==============================] - 7s 8ms/step - loss: 0.2500 - accuracy: 0.9152 - val_loss: 0.3247 - val_accuracy: 0.9051\n",
            "Epoch 29/50\n",
            "859/859 [==============================] - 7s 8ms/step - loss: 0.2488 - accuracy: 0.9159 - val_loss: 0.2791 - val_accuracy: 0.9185\n",
            "Epoch 30/50\n",
            "859/859 [==============================] - 7s 8ms/step - loss: 0.2482 - accuracy: 0.9160 - val_loss: 0.2966 - val_accuracy: 0.9183\n",
            "Epoch 31/50\n",
            "859/859 [==============================] - 7s 8ms/step - loss: 0.2471 - accuracy: 0.9159 - val_loss: 0.3016 - val_accuracy: 0.9149\n",
            "Epoch 32/50\n",
            "859/859 [==============================] - 7s 8ms/step - loss: 0.2437 - accuracy: 0.9175 - val_loss: 0.2952 - val_accuracy: 0.9110\n",
            "Epoch 33/50\n",
            "859/859 [==============================] - 7s 8ms/step - loss: 0.2418 - accuracy: 0.9181 - val_loss: 0.3108 - val_accuracy: 0.9039\n",
            "Epoch 34/50\n",
            "859/859 [==============================] - 7s 8ms/step - loss: 0.2429 - accuracy: 0.9175 - val_loss: 0.2950 - val_accuracy: 0.9159\n",
            "Epoch 35/50\n",
            "859/859 [==============================] - 7s 8ms/step - loss: 0.2391 - accuracy: 0.9190 - val_loss: 0.2980 - val_accuracy: 0.9152\n",
            "Epoch 36/50\n",
            "859/859 [==============================] - 7s 8ms/step - loss: 0.2393 - accuracy: 0.9186 - val_loss: 0.2832 - val_accuracy: 0.9177\n",
            "Epoch 37/50\n",
            "859/859 [==============================] - 7s 8ms/step - loss: 0.2381 - accuracy: 0.9195 - val_loss: 0.3101 - val_accuracy: 0.9051\n",
            "Epoch 38/50\n",
            "859/859 [==============================] - 7s 8ms/step - loss: 0.2376 - accuracy: 0.9196 - val_loss: 0.3101 - val_accuracy: 0.9081\n",
            "Epoch 39/50\n",
            "859/859 [==============================] - 7s 8ms/step - loss: 0.2375 - accuracy: 0.9191 - val_loss: 0.2983 - val_accuracy: 0.9042\n",
            "Epoch 40/50\n",
            "859/859 [==============================] - 7s 8ms/step - loss: 0.2354 - accuracy: 0.9198 - val_loss: 0.2780 - val_accuracy: 0.9187\n",
            "Epoch 41/50\n",
            "859/859 [==============================] - 7s 8ms/step - loss: 0.2306 - accuracy: 0.9217 - val_loss: 0.2842 - val_accuracy: 0.9115\n",
            "Epoch 42/50\n",
            "859/859 [==============================] - 7s 8ms/step - loss: 0.2333 - accuracy: 0.9208 - val_loss: 0.3090 - val_accuracy: 0.9047\n",
            "Epoch 43/50\n",
            "859/859 [==============================] - 7s 8ms/step - loss: 0.2315 - accuracy: 0.9210 - val_loss: 0.3484 - val_accuracy: 0.8826\n",
            "Epoch 44/50\n",
            "859/859 [==============================] - 7s 8ms/step - loss: 0.2319 - accuracy: 0.9214 - val_loss: 0.2948 - val_accuracy: 0.9117\n",
            "Epoch 45/50\n",
            "859/859 [==============================] - 7s 8ms/step - loss: 0.2327 - accuracy: 0.9210 - val_loss: 0.3007 - val_accuracy: 0.9080\n",
            "Epoch 46/50\n",
            "859/859 [==============================] - 7s 8ms/step - loss: 0.2268 - accuracy: 0.9233 - val_loss: 0.2943 - val_accuracy: 0.9163\n",
            "Epoch 47/50\n",
            "859/859 [==============================] - 7s 8ms/step - loss: 0.2296 - accuracy: 0.9221 - val_loss: 0.2796 - val_accuracy: 0.9180\n",
            "Epoch 48/50\n",
            "859/859 [==============================] - 7s 8ms/step - loss: 0.2278 - accuracy: 0.9226 - val_loss: 0.2991 - val_accuracy: 0.9100\n",
            "Epoch 49/50\n",
            "859/859 [==============================] - 7s 8ms/step - loss: 0.2288 - accuracy: 0.9223 - val_loss: 0.2805 - val_accuracy: 0.9168\n",
            "Epoch 50/50\n",
            "859/859 [==============================] - 7s 8ms/step - loss: 0.2244 - accuracy: 0.9237 - val_loss: 0.2766 - val_accuracy: 0.9139\n"
          ],
          "name": "stdout"
        }
      ]
    },
    {
      "cell_type": "code",
      "metadata": {
        "colab": {
          "base_uri": "https://localhost:8080/",
          "height": 1000
        },
        "id": "FnHTtD7qAN-x",
        "outputId": "fa6ea3d9-edfb-4124-d5c3-cee906af7f7b"
      },
      "source": [
        "y_pred = makeRoc(X_testzero, y_tlabhot, labels, model, outputSuffix='two-layer')\n",
        "learningCurve(history)"
      ],
      "execution_count": null,
      "outputs": [
        {
          "output_type": "display_data",
          "data": {
            "image/png": "[encoded data removed]",
            "text/plain": [
              "<Figure size 720x576 with 1 Axes>"
            ]
          },
          "metadata": {
            "tags": [],
            "needs_background": "light"
          }
        },
        {
          "output_type": "display_data",
          "data": {
            "image/png": "[encoded data removed]",
            "text/plain": [
              "<Figure size 720x576 with 1 Axes>"
            ]
          },
          "metadata": {
            "tags": [],
            "needs_background": "light"
          }
        }
      ]
    },
    {
      "cell_type": "code",
      "metadata": {
        "id": "AF8oQxUPEqaU"
      },
      "source": [
        ""
      ],
      "execution_count": null,
      "outputs": []
    }
  ]
}