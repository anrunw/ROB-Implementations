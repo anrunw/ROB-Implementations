{
  "nbformat": 4,
  "nbformat_minor": 0,
  "metadata": {
    "kernelspec": {
      "display_name": "Python 3",
      "language": "python",
      "name": "python3"
    },
    "language_info": {
      "codemirror_mode": {
        "name": "ipython",
        "version": 3
      },
      "file_extension": ".py",
      "mimetype": "text/x-python",
      "name": "python",
      "nbconvert_exporter": "python",
      "pygments_lexer": "ipython3",
      "version": "3.7.9"
    },
    "colab": {
      "name": "5 - Tag , LSTM_Small.ipynb",
      "provenance": [],
      "collapsed_sections": [],
      "toc_visible": true
    },
    "accelerator": "GPU"
  },
  "cells": [
    {
      "cell_type": "code",
      "metadata": {
        "id": "-yGYdN3OqkZN"
      },
      "source": [
        "import h5py\n",
        "import pandas as pd\n",
        "import numpy as np\n",
        "import time\n",
        "import h5py\n",
        "from sklearn.model_selection import train_test_split\n",
        "import tensorflow as tf\n",
        "import keras\n",
        "from keras.layers import Input, Dense, Dropout, LSTM, Flatten, GRU,TimeDistributed, Conv1D\n",
        "from keras.models import Model, Sequential\n",
        "from keras.optimizers import Adam, SGD\n",
        "from sklearn.model_selection import train_test_split\n",
        "import os\n",
        "import h5py\n",
        "import matplotlib.pyplot as plt\n",
        "from keras import regularizers\n",
        "from tensorflow.keras.regularizers import l1\n",
        "import ast\n",
        "from tqdm import tqdm\n",
        "from sklearn.model_selection import RandomizedSearchCV\n",
        "from scipy.stats import uniform, truncnorm, randint\n",
        "from sklearn.metrics import make_scorer\n",
        "from sklearn.metrics import accuracy_score, precision_score, recall_score\n",
        "from sklearn.model_selection import RepeatedStratifiedKFold\n",
        "from scipy.stats import loguniform\n",
        "from pandas import read_csv\n",
        "from keras.wrappers.scikit_learn import KerasClassifier\n"
      ],
      "execution_count": 1,
      "outputs": []
    },
    {
      "cell_type": "code",
      "metadata": {
        "colab": {
          "base_uri": "https://localhost:8080/"
        },
        "id": "Ygm8addDqvCm",
        "outputId": "4803cadc-7ff3-46ab-cd6c-5387487a78c5"
      },
      "source": [
        "from google.colab import drive\n",
        "drive.mount('/drive')"
      ],
      "execution_count": 3,
      "outputs": [
        {
          "output_type": "stream",
          "text": [
            "Drive already mounted at /drive; to attempt to forcibly remount, call drive.mount(\"/drive\", force_remount=True).\n"
          ],
          "name": "stdout"
        }
      ]
    },
    {
      "cell_type": "markdown",
      "metadata": {
        "id": "Xn8gkCDkqkZX"
      },
      "source": [
        "### Go Through File and Create Dataframes"
      ]
    },
    {
      "cell_type": "code",
      "metadata": {
        "id": "b-g54E_0qkZY"
      },
      "source": [
        "f = h5py.File('/drive/Shareddrives/Jet Classification/Data/processed-pythia82-lhc13-all-pt1-50k-r1_h022_e0175_t220_nonu_withPars_truth_0.z','r')\n",
        "\n",
        "treeArray = f['t_allpar_new'][()]\n",
        "\n",
        "features = ['j_zlogz', 'j_c1_b0_mmdt','j_c1_b1_mmdt', 'j_c1_b2_mmdt' , 'j_c2_b1_mmdt',\n",
        "            'j_c2_b2_mmdt', 'j_d2_b1_mmdt', 'j_d2_b2_mmdt', 'j_d2_a1_b1_mmdt', 'j_d2_a1_b2_mmdt', 'j_m2_b1_mmdt', 'j_m2_b2_mmdt', 'j_n2_b1_mmdt', \n",
        "            'j_n2_b2_mmdt', 'j_mass_mmdt', 'j_multiplicity', 'j1_etarel','j1_phirel','j1_pt','j1_e','j1_ptrel','j1_erel','j1_deltaR','j_index']\n",
        "\n",
        "featuresUsed = ['j1_ptrel', 'j1_etarot', 'j1_phirot', 'j1_erel', 'j1_deltaR','j1_pdgid','j_index']\n",
        "pdgid = ['j_index', 'j1_pdgid']\n",
        "glob = ['j_mass_mmdt', 'j_mass' ,'j_index']\n",
        "labels = ['j_g', 'j_q', 'j_w', 'j_z', 'j_t', 'j_index']\n"
      ],
      "execution_count": 68,
      "outputs": []
    },
    {
      "cell_type": "code",
      "metadata": {
        "id": "jn6ewYqi9nUt"
      },
      "source": [
        "features = featuresUsed"
      ],
      "execution_count": 69,
      "outputs": []
    },
    {
      "cell_type": "markdown",
      "metadata": {
        "id": "hpMGzPLuqkZc"
      },
      "source": [
        "### Group Features in Dataframe by Jet Index"
      ]
    },
    {
      "cell_type": "code",
      "metadata": {
        "id": "0UGHdslmzsqB"
      },
      "source": [
        "features_df = pd.DataFrame(treeArray,columns=features)"
      ],
      "execution_count": 70,
      "outputs": []
    },
    {
      "cell_type": "code",
      "metadata": {
        "colab": {
          "base_uri": "https://localhost:8080/",
          "height": 419
        },
        "id": "nA7pgihzFDFS",
        "outputId": "90ac7041-0d55-478e-b7e2-c72f879d3058"
      },
      "source": [
        "features_df"
      ],
      "execution_count": 71,
      "outputs": [
        {
          "output_type": "execute_result",
          "data": {
            "text/html": [
              "<div>\n",
              "<style scoped>\n",
              "    .dataframe tbody tr th:only-of-type {\n",
              "        vertical-align: middle;\n",
              "    }\n",
              "\n",
              "    .dataframe tbody tr th {\n",
              "        vertical-align: top;\n",
              "    }\n",
              "\n",
              "    .dataframe thead th {\n",
              "        text-align: right;\n",
              "    }\n",
              "</style>\n",
              "<table border=\"1\" class=\"dataframe\">\n",
              "  <thead>\n",
              "    <tr style=\"text-align: right;\">\n",
              "      <th></th>\n",
              "      <th>j1_ptrel</th>\n",
              "      <th>j1_etarot</th>\n",
              "      <th>j1_phirot</th>\n",
              "      <th>j1_erel</th>\n",
              "      <th>j1_deltaR</th>\n",
              "      <th>j_index</th>\n",
              "    </tr>\n",
              "  </thead>\n",
              "  <tbody>\n",
              "    <tr>\n",
              "      <th>0</th>\n",
              "      <td>0.386118</td>\n",
              "      <td>0.000000</td>\n",
              "      <td>0.000000</td>\n",
              "      <td>0.382772</td>\n",
              "      <td>0.011056</td>\n",
              "      <td>101333</td>\n",
              "    </tr>\n",
              "    <tr>\n",
              "      <th>1</th>\n",
              "      <td>0.107734</td>\n",
              "      <td>-0.009859</td>\n",
              "      <td>0.007236</td>\n",
              "      <td>0.105703</td>\n",
              "      <td>0.023104</td>\n",
              "      <td>101333</td>\n",
              "    </tr>\n",
              "    <tr>\n",
              "      <th>2</th>\n",
              "      <td>0.094731</td>\n",
              "      <td>0.004508</td>\n",
              "      <td>-0.002759</td>\n",
              "      <td>0.094339</td>\n",
              "      <td>0.006306</td>\n",
              "      <td>101333</td>\n",
              "    </tr>\n",
              "    <tr>\n",
              "      <th>3</th>\n",
              "      <td>0.042086</td>\n",
              "      <td>0.028567</td>\n",
              "      <td>-0.014909</td>\n",
              "      <td>0.042913</td>\n",
              "      <td>0.022473</td>\n",
              "      <td>101333</td>\n",
              "    </tr>\n",
              "    <tr>\n",
              "      <th>4</th>\n",
              "      <td>0.039412</td>\n",
              "      <td>-0.018020</td>\n",
              "      <td>-0.003745</td>\n",
              "      <td>0.038547</td>\n",
              "      <td>0.025492</td>\n",
              "      <td>101333</td>\n",
              "    </tr>\n",
              "    <tr>\n",
              "      <th>...</th>\n",
              "      <td>...</td>\n",
              "      <td>...</td>\n",
              "      <td>...</td>\n",
              "      <td>...</td>\n",
              "      <td>...</td>\n",
              "      <td>...</td>\n",
              "    </tr>\n",
              "    <tr>\n",
              "      <th>5131608</th>\n",
              "      <td>0.000350</td>\n",
              "      <td>-0.300495</td>\n",
              "      <td>-0.315306</td>\n",
              "      <td>0.000344</td>\n",
              "      <td>0.380018</td>\n",
              "      <td>300123134</td>\n",
              "    </tr>\n",
              "    <tr>\n",
              "      <th>5131609</th>\n",
              "      <td>0.000258</td>\n",
              "      <td>0.258936</td>\n",
              "      <td>-0.349366</td>\n",
              "      <td>0.000256</td>\n",
              "      <td>0.294476</td>\n",
              "      <td>300123134</td>\n",
              "    </tr>\n",
              "    <tr>\n",
              "      <th>5131610</th>\n",
              "      <td>0.000219</td>\n",
              "      <td>0.269149</td>\n",
              "      <td>-0.270430</td>\n",
              "      <td>0.000215</td>\n",
              "      <td>0.255231</td>\n",
              "      <td>300123134</td>\n",
              "    </tr>\n",
              "    <tr>\n",
              "      <th>5131611</th>\n",
              "      <td>0.000116</td>\n",
              "      <td>-0.213081</td>\n",
              "      <td>-0.341398</td>\n",
              "      <td>0.000115</td>\n",
              "      <td>0.319973</td>\n",
              "      <td>300123134</td>\n",
              "    </tr>\n",
              "    <tr>\n",
              "      <th>5131612</th>\n",
              "      <td>0.000080</td>\n",
              "      <td>0.416615</td>\n",
              "      <td>-0.289803</td>\n",
              "      <td>0.000079</td>\n",
              "      <td>0.395627</td>\n",
              "      <td>300123134</td>\n",
              "    </tr>\n",
              "  </tbody>\n",
              "</table>\n",
              "<p>5131613 rows × 6 columns</p>\n",
              "</div>"
            ],
            "text/plain": [
              "         j1_ptrel  j1_etarot  j1_phirot   j1_erel  j1_deltaR    j_index\n",
              "0        0.386118   0.000000   0.000000  0.382772   0.011056     101333\n",
              "1        0.107734  -0.009859   0.007236  0.105703   0.023104     101333\n",
              "2        0.094731   0.004508  -0.002759  0.094339   0.006306     101333\n",
              "3        0.042086   0.028567  -0.014909  0.042913   0.022473     101333\n",
              "4        0.039412  -0.018020  -0.003745  0.038547   0.025492     101333\n",
              "...           ...        ...        ...       ...        ...        ...\n",
              "5131608  0.000350  -0.300495  -0.315306  0.000344   0.380018  300123134\n",
              "5131609  0.000258   0.258936  -0.349366  0.000256   0.294476  300123134\n",
              "5131610  0.000219   0.269149  -0.270430  0.000215   0.255231  300123134\n",
              "5131611  0.000116  -0.213081  -0.341398  0.000115   0.319973  300123134\n",
              "5131612  0.000080   0.416615  -0.289803  0.000079   0.395627  300123134\n",
              "\n",
              "[5131613 rows x 6 columns]"
            ]
          },
          "metadata": {
            "tags": []
          },
          "execution_count": 71
        }
      ]
    },
    {
      "cell_type": "code",
      "metadata": {
        "id": "jctDK5SyqkZc"
      },
      "source": [
        "index_df = features_df[features].groupby(['j_index'])"
      ],
      "execution_count": 72,
      "outputs": []
    },
    {
      "cell_type": "code",
      "metadata": {
        "colab": {
          "base_uri": "https://localhost:8080/"
        },
        "id": "d2tGTsRg_ZKk",
        "outputId": "96b1d74d-018f-4de1-9570-7e086e6c18df"
      },
      "source": [
        "data[0]"
      ],
      "execution_count": 73,
      "outputs": [
        {
          "output_type": "execute_result",
          "data": {
            "text/plain": [
              "array([[0., 0., 0., 0., 0., 0.],\n",
              "       [0., 0., 0., 0., 0., 0.],\n",
              "       [0., 0., 0., 0., 0., 0.],\n",
              "       [0., 0., 0., 0., 0., 0.],\n",
              "       [0., 0., 0., 0., 0., 0.],\n",
              "       [0., 0., 0., 0., 0., 0.],\n",
              "       [0., 0., 0., 0., 0., 0.],\n",
              "       [0., 0., 0., 0., 0., 0.],\n",
              "       [0., 0., 0., 0., 0., 0.],\n",
              "       [0., 0., 0., 0., 0., 0.],\n",
              "       [0., 0., 0., 0., 0., 0.],\n",
              "       [0., 0., 0., 0., 0., 0.],\n",
              "       [0., 0., 0., 0., 0., 0.],\n",
              "       [0., 0., 0., 0., 0., 0.],\n",
              "       [0., 0., 0., 0., 0., 0.],\n",
              "       [0., 0., 0., 0., 0., 0.],\n",
              "       [0., 0., 0., 0., 0., 0.],\n",
              "       [0., 0., 0., 0., 0., 0.],\n",
              "       [0., 0., 0., 0., 0., 0.],\n",
              "       [0., 0., 0., 0., 0., 0.]])"
            ]
          },
          "metadata": {
            "tags": []
          },
          "execution_count": 73
        }
      ]
    },
    {
      "cell_type": "code",
      "metadata": {
        "colab": {
          "base_uri": "https://localhost:8080/",
          "height": 450
        },
        "id": "VzEmDuw7qkZd",
        "outputId": "9db33abd-384e-4500-fb16-3f79dbb8989c"
      },
      "source": [
        "index_df.first()"
      ],
      "execution_count": 74,
      "outputs": [
        {
          "output_type": "execute_result",
          "data": {
            "text/html": [
              "<div>\n",
              "<style scoped>\n",
              "    .dataframe tbody tr th:only-of-type {\n",
              "        vertical-align: middle;\n",
              "    }\n",
              "\n",
              "    .dataframe tbody tr th {\n",
              "        vertical-align: top;\n",
              "    }\n",
              "\n",
              "    .dataframe thead th {\n",
              "        text-align: right;\n",
              "    }\n",
              "</style>\n",
              "<table border=\"1\" class=\"dataframe\">\n",
              "  <thead>\n",
              "    <tr style=\"text-align: right;\">\n",
              "      <th></th>\n",
              "      <th>j1_ptrel</th>\n",
              "      <th>j1_etarot</th>\n",
              "      <th>j1_phirot</th>\n",
              "      <th>j1_erel</th>\n",
              "      <th>j1_deltaR</th>\n",
              "    </tr>\n",
              "    <tr>\n",
              "      <th>j_index</th>\n",
              "      <th></th>\n",
              "      <th></th>\n",
              "      <th></th>\n",
              "      <th></th>\n",
              "      <th></th>\n",
              "    </tr>\n",
              "  </thead>\n",
              "  <tbody>\n",
              "    <tr>\n",
              "      <th>1</th>\n",
              "      <td>0.526719</td>\n",
              "      <td>0.0</td>\n",
              "      <td>0.0</td>\n",
              "      <td>0.525633</td>\n",
              "      <td>0.024813</td>\n",
              "    </tr>\n",
              "    <tr>\n",
              "      <th>3</th>\n",
              "      <td>0.689462</td>\n",
              "      <td>0.0</td>\n",
              "      <td>0.0</td>\n",
              "      <td>0.699932</td>\n",
              "      <td>0.057165</td>\n",
              "    </tr>\n",
              "    <tr>\n",
              "      <th>7</th>\n",
              "      <td>0.390835</td>\n",
              "      <td>0.0</td>\n",
              "      <td>0.0</td>\n",
              "      <td>0.388123</td>\n",
              "      <td>0.079966</td>\n",
              "    </tr>\n",
              "    <tr>\n",
              "      <th>21</th>\n",
              "      <td>0.133965</td>\n",
              "      <td>0.0</td>\n",
              "      <td>0.0</td>\n",
              "      <td>0.130639</td>\n",
              "      <td>0.044376</td>\n",
              "    </tr>\n",
              "    <tr>\n",
              "      <th>23</th>\n",
              "      <td>0.130030</td>\n",
              "      <td>-0.0</td>\n",
              "      <td>0.0</td>\n",
              "      <td>0.129065</td>\n",
              "      <td>0.061479</td>\n",
              "    </tr>\n",
              "    <tr>\n",
              "      <th>...</th>\n",
              "      <td>...</td>\n",
              "      <td>...</td>\n",
              "      <td>...</td>\n",
              "      <td>...</td>\n",
              "      <td>...</td>\n",
              "    </tr>\n",
              "    <tr>\n",
              "      <th>400199939</th>\n",
              "      <td>0.079498</td>\n",
              "      <td>0.0</td>\n",
              "      <td>0.0</td>\n",
              "      <td>0.068866</td>\n",
              "      <td>0.226768</td>\n",
              "    </tr>\n",
              "    <tr>\n",
              "      <th>400199945</th>\n",
              "      <td>0.162039</td>\n",
              "      <td>0.0</td>\n",
              "      <td>0.0</td>\n",
              "      <td>0.158689</td>\n",
              "      <td>0.061562</td>\n",
              "    </tr>\n",
              "    <tr>\n",
              "      <th>400199962</th>\n",
              "      <td>0.067352</td>\n",
              "      <td>0.0</td>\n",
              "      <td>0.0</td>\n",
              "      <td>0.063112</td>\n",
              "      <td>0.262295</td>\n",
              "    </tr>\n",
              "    <tr>\n",
              "      <th>400199967</th>\n",
              "      <td>0.143843</td>\n",
              "      <td>-0.0</td>\n",
              "      <td>0.0</td>\n",
              "      <td>0.141045</td>\n",
              "      <td>0.013341</td>\n",
              "    </tr>\n",
              "    <tr>\n",
              "      <th>400199970</th>\n",
              "      <td>0.122696</td>\n",
              "      <td>0.0</td>\n",
              "      <td>0.0</td>\n",
              "      <td>0.121170</td>\n",
              "      <td>0.056541</td>\n",
              "    </tr>\n",
              "  </tbody>\n",
              "</table>\n",
              "<p>98769 rows × 5 columns</p>\n",
              "</div>"
            ],
            "text/plain": [
              "           j1_ptrel  j1_etarot  j1_phirot   j1_erel  j1_deltaR\n",
              "j_index                                                       \n",
              "1          0.526719        0.0        0.0  0.525633   0.024813\n",
              "3          0.689462        0.0        0.0  0.699932   0.057165\n",
              "7          0.390835        0.0        0.0  0.388123   0.079966\n",
              "21         0.133965        0.0        0.0  0.130639   0.044376\n",
              "23         0.130030       -0.0        0.0  0.129065   0.061479\n",
              "...             ...        ...        ...       ...        ...\n",
              "400199939  0.079498        0.0        0.0  0.068866   0.226768\n",
              "400199945  0.162039        0.0        0.0  0.158689   0.061562\n",
              "400199962  0.067352        0.0        0.0  0.063112   0.262295\n",
              "400199967  0.143843       -0.0        0.0  0.141045   0.013341\n",
              "400199970  0.122696        0.0        0.0  0.121170   0.056541\n",
              "\n",
              "[98769 rows x 5 columns]"
            ]
          },
          "metadata": {
            "tags": []
          },
          "execution_count": 74
        }
      ]
    },
    {
      "cell_type": "code",
      "metadata": {
        "colab": {
          "base_uri": "https://localhost:8080/",
          "height": 450
        },
        "id": "tc-SZ3LuqkZe",
        "outputId": "2b9331f1-bc41-4c29-8b5b-71e66ebc7f2d"
      },
      "source": [
        "index_df.last()"
      ],
      "execution_count": 75,
      "outputs": [
        {
          "output_type": "execute_result",
          "data": {
            "text/html": [
              "<div>\n",
              "<style scoped>\n",
              "    .dataframe tbody tr th:only-of-type {\n",
              "        vertical-align: middle;\n",
              "    }\n",
              "\n",
              "    .dataframe tbody tr th {\n",
              "        vertical-align: top;\n",
              "    }\n",
              "\n",
              "    .dataframe thead th {\n",
              "        text-align: right;\n",
              "    }\n",
              "</style>\n",
              "<table border=\"1\" class=\"dataframe\">\n",
              "  <thead>\n",
              "    <tr style=\"text-align: right;\">\n",
              "      <th></th>\n",
              "      <th>j1_ptrel</th>\n",
              "      <th>j1_etarot</th>\n",
              "      <th>j1_phirot</th>\n",
              "      <th>j1_erel</th>\n",
              "      <th>j1_deltaR</th>\n",
              "    </tr>\n",
              "    <tr>\n",
              "      <th>j_index</th>\n",
              "      <th></th>\n",
              "      <th></th>\n",
              "      <th></th>\n",
              "      <th></th>\n",
              "      <th></th>\n",
              "    </tr>\n",
              "  </thead>\n",
              "  <tbody>\n",
              "    <tr>\n",
              "      <th>1</th>\n",
              "      <td>4.929822e-15</td>\n",
              "      <td>0.030484</td>\n",
              "      <td>-0.190216</td>\n",
              "      <td>4.914950e-15</td>\n",
              "      <td>0.167938</td>\n",
              "    </tr>\n",
              "    <tr>\n",
              "      <th>3</th>\n",
              "      <td>1.743528e-04</td>\n",
              "      <td>-0.180854</td>\n",
              "      <td>0.077529</td>\n",
              "      <td>1.716514e-04</td>\n",
              "      <td>0.216846</td>\n",
              "    </tr>\n",
              "    <tr>\n",
              "      <th>7</th>\n",
              "      <td>2.259763e-15</td>\n",
              "      <td>-0.113552</td>\n",
              "      <td>-0.431896</td>\n",
              "      <td>2.267890e-15</td>\n",
              "      <td>0.371562</td>\n",
              "    </tr>\n",
              "    <tr>\n",
              "      <th>21</th>\n",
              "      <td>1.921491e-14</td>\n",
              "      <td>0.029871</td>\n",
              "      <td>0.129893</td>\n",
              "      <td>1.758091e-14</td>\n",
              "      <td>0.176887</td>\n",
              "    </tr>\n",
              "    <tr>\n",
              "      <th>23</th>\n",
              "      <td>1.727544e-04</td>\n",
              "      <td>0.203801</td>\n",
              "      <td>-0.016355</td>\n",
              "      <td>1.724079e-04</td>\n",
              "      <td>0.210257</td>\n",
              "    </tr>\n",
              "    <tr>\n",
              "      <th>...</th>\n",
              "      <td>...</td>\n",
              "      <td>...</td>\n",
              "      <td>...</td>\n",
              "      <td>...</td>\n",
              "      <td>...</td>\n",
              "    </tr>\n",
              "    <tr>\n",
              "      <th>400199939</th>\n",
              "      <td>1.899589e-04</td>\n",
              "      <td>0.270294</td>\n",
              "      <td>-0.174553</td>\n",
              "      <td>1.702099e-04</td>\n",
              "      <td>0.285076</td>\n",
              "    </tr>\n",
              "    <tr>\n",
              "      <th>400199945</th>\n",
              "      <td>1.980837e-13</td>\n",
              "      <td>-0.100336</td>\n",
              "      <td>0.142462</td>\n",
              "      <td>1.999639e-13</td>\n",
              "      <td>0.211512</td>\n",
              "    </tr>\n",
              "    <tr>\n",
              "      <th>400199962</th>\n",
              "      <td>1.629955e-04</td>\n",
              "      <td>-0.290382</td>\n",
              "      <td>-0.508617</td>\n",
              "      <td>1.746291e-04</td>\n",
              "      <td>0.318107</td>\n",
              "    </tr>\n",
              "    <tr>\n",
              "      <th>400199967</th>\n",
              "      <td>3.792574e-15</td>\n",
              "      <td>-0.133642</td>\n",
              "      <td>0.173700</td>\n",
              "      <td>3.704065e-15</td>\n",
              "      <td>0.218666</td>\n",
              "    </tr>\n",
              "    <tr>\n",
              "      <th>400199970</th>\n",
              "      <td>5.124709e-15</td>\n",
              "      <td>-0.108092</td>\n",
              "      <td>0.425505</td>\n",
              "      <td>5.186064e-15</td>\n",
              "      <td>0.389175</td>\n",
              "    </tr>\n",
              "  </tbody>\n",
              "</table>\n",
              "<p>98769 rows × 5 columns</p>\n",
              "</div>"
            ],
            "text/plain": [
              "               j1_ptrel  j1_etarot  j1_phirot       j1_erel  j1_deltaR\n",
              "j_index                                                               \n",
              "1          4.929822e-15   0.030484  -0.190216  4.914950e-15   0.167938\n",
              "3          1.743528e-04  -0.180854   0.077529  1.716514e-04   0.216846\n",
              "7          2.259763e-15  -0.113552  -0.431896  2.267890e-15   0.371562\n",
              "21         1.921491e-14   0.029871   0.129893  1.758091e-14   0.176887\n",
              "23         1.727544e-04   0.203801  -0.016355  1.724079e-04   0.210257\n",
              "...                 ...        ...        ...           ...        ...\n",
              "400199939  1.899589e-04   0.270294  -0.174553  1.702099e-04   0.285076\n",
              "400199945  1.980837e-13  -0.100336   0.142462  1.999639e-13   0.211512\n",
              "400199962  1.629955e-04  -0.290382  -0.508617  1.746291e-04   0.318107\n",
              "400199967  3.792574e-15  -0.133642   0.173700  3.704065e-15   0.218666\n",
              "400199970  5.124709e-15  -0.108092   0.425505  5.186064e-15   0.389175\n",
              "\n",
              "[98769 rows x 5 columns]"
            ]
          },
          "metadata": {
            "tags": []
          },
          "execution_count": 75
        }
      ]
    },
    {
      "cell_type": "code",
      "metadata": {
        "id": "OGe6mI8oqkZe"
      },
      "source": [
        "max_particles = 20"
      ],
      "execution_count": 76,
      "outputs": []
    },
    {
      "cell_type": "code",
      "metadata": {
        "id": "Cr1iGAS5qkZe"
      },
      "source": [
        "num_features = 6"
      ],
      "execution_count": 77,
      "outputs": []
    },
    {
      "cell_type": "markdown",
      "metadata": {
        "id": "TuSKR6WjqkZf"
      },
      "source": [
        "### Iterate through dataframe to create a numpy array with desired dimensions\n"
      ]
    },
    {
      "cell_type": "code",
      "metadata": {
        "id": "Awsme9C4qkZf"
      },
      "source": [
        "data = np.zeros([98769,max_particles,num_features])\n",
        "p = 0\n",
        "for name, group in index_df:\n",
        "    x = group.to_numpy()\n",
        "    x = np.delete(x,num_features,1)\n",
        "    g = 0\n",
        "    for l in x:\n",
        "        if g == max_particles or g == len(x): \n",
        "            break\n",
        "        for n in range(num_features):\n",
        "            data[p,g,n] = l[n]\n",
        "        g = g+1\n",
        "\n",
        "    p = p+1\n",
        "    "
      ],
      "execution_count": 78,
      "outputs": []
    },
    {
      "cell_type": "code",
      "metadata": {
        "colab": {
          "base_uri": "https://localhost:8080/"
        },
        "id": "c-9YF_LUqkZf",
        "outputId": "90f73c2f-002a-47f6-8b66-88580de80760"
      },
      "source": [
        "data[10]"
      ],
      "execution_count": 79,
      "outputs": [
        {
          "output_type": "execute_result",
          "data": {
            "text/plain": [
              "array([[ 8.58973786e-02,  0.00000000e+00,  0.00000000e+00,\n",
              "         8.53082240e-02,  8.89146030e-02],\n",
              "       [ 8.26944411e-02,  4.59026033e-03, -5.17616514e-04,\n",
              "         8.21503997e-02,  8.43417943e-02],\n",
              "       [ 7.68888891e-02,  5.88379849e-14, -1.26423717e-01,\n",
              "         7.23997951e-02,  1.35523349e-01],\n",
              "       [ 6.50706366e-02,  1.34935854e-02, -1.19155936e-01,\n",
              "         6.15162551e-02,  1.21366620e-01],\n",
              "       [ 5.95686734e-02,  3.70981358e-02,  4.07468863e-02,\n",
              "         6.06078431e-02,  7.96526596e-02],\n",
              "       [ 4.34765741e-02,  7.48828724e-02,  5.97285777e-02,\n",
              "         4.48773019e-02,  8.24285448e-02],\n",
              "       [ 4.18755934e-02,  4.03978443e-03,  8.77251755e-03,\n",
              "         4.17799093e-02,  8.76926258e-02],\n",
              "       [ 3.82348709e-02,  3.21059614e-01, -1.56203702e-01,\n",
              "         3.67779993e-02,  2.64558643e-01],\n",
              "       [ 2.72325780e-02,  2.69308716e-01, -4.22496609e-02,\n",
              "         2.73474883e-02,  1.81082398e-01],\n",
              "       [ 2.66603176e-02,  6.34032860e-02,  6.39984086e-02,\n",
              "         2.75411680e-02,  8.89170915e-02],\n",
              "       [ 2.46795043e-02, -5.86456060e-03,  1.06410438e-03,\n",
              "         2.45058034e-02,  9.48607698e-02],\n",
              "       [ 2.32396200e-02,  6.22392409e-02,  5.91399856e-02,\n",
              "         2.39430722e-02,  8.45536068e-02],\n",
              "       [ 2.17329543e-02,  3.90016846e-02,  6.94049299e-02,\n",
              "         2.24459022e-02,  1.02871090e-01],\n",
              "       [ 2.08414644e-02,  5.68896830e-02,  4.75745648e-02,\n",
              "         2.13303305e-02,  7.54568130e-02],\n",
              "       [ 1.76525172e-02, -1.45529211e-03, -7.51955621e-03,\n",
              "         1.74674951e-02,  8.87894034e-02],\n",
              "       [ 1.75588820e-02,  3.30150098e-01, -3.88369262e-02,\n",
              "         1.77851748e-02,  2.38801897e-01],\n",
              "       [ 1.61703210e-02,  8.06094799e-03,  5.39280800e-03,\n",
              "         1.61149539e-02,  8.27586204e-02],\n",
              "       [ 1.57317929e-02,  2.31665373e-01,  1.39085697e-02,\n",
              "         1.61648244e-02,  1.47934690e-01],\n",
              "       [ 1.47619592e-02, -6.00357214e-03, -7.34551102e-02,\n",
              "         1.41844042e-02,  1.05541684e-01],\n",
              "       [ 1.46181239e-02,  3.37541193e-01, -3.58927697e-02,\n",
              "         1.48401111e-02,  2.45625004e-01]])"
            ]
          },
          "metadata": {
            "tags": []
          },
          "execution_count": 79
        }
      ]
    },
    {
      "cell_type": "markdown",
      "metadata": {
        "id": "ZWGhKFd_qkZg"
      },
      "source": [
        "### Create and group labels dataframe by index"
      ]
    },
    {
      "cell_type": "code",
      "metadata": {
        "id": "tqEn-7qHqkZg"
      },
      "source": [
        "labels_df = pd.DataFrame(treeArray,columns=list(labels))\n"
      ],
      "execution_count": 80,
      "outputs": []
    },
    {
      "cell_type": "code",
      "metadata": {
        "colab": {
          "base_uri": "https://localhost:8080/",
          "height": 419
        },
        "id": "Fkd6PmUAqkZg",
        "outputId": "3bf5cb5c-aade-4fd1-cb3f-e6de062d57ab"
      },
      "source": [
        "labels_df"
      ],
      "execution_count": 81,
      "outputs": [
        {
          "output_type": "execute_result",
          "data": {
            "text/html": [
              "<div>\n",
              "<style scoped>\n",
              "    .dataframe tbody tr th:only-of-type {\n",
              "        vertical-align: middle;\n",
              "    }\n",
              "\n",
              "    .dataframe tbody tr th {\n",
              "        vertical-align: top;\n",
              "    }\n",
              "\n",
              "    .dataframe thead th {\n",
              "        text-align: right;\n",
              "    }\n",
              "</style>\n",
              "<table border=\"1\" class=\"dataframe\">\n",
              "  <thead>\n",
              "    <tr style=\"text-align: right;\">\n",
              "      <th></th>\n",
              "      <th>j_g</th>\n",
              "      <th>j_q</th>\n",
              "      <th>j_w</th>\n",
              "      <th>j_z</th>\n",
              "      <th>j_t</th>\n",
              "      <th>j_index</th>\n",
              "    </tr>\n",
              "  </thead>\n",
              "  <tbody>\n",
              "    <tr>\n",
              "      <th>0</th>\n",
              "      <td>1</td>\n",
              "      <td>0</td>\n",
              "      <td>0</td>\n",
              "      <td>0</td>\n",
              "      <td>0</td>\n",
              "      <td>101333</td>\n",
              "    </tr>\n",
              "    <tr>\n",
              "      <th>1</th>\n",
              "      <td>1</td>\n",
              "      <td>0</td>\n",
              "      <td>0</td>\n",
              "      <td>0</td>\n",
              "      <td>0</td>\n",
              "      <td>101333</td>\n",
              "    </tr>\n",
              "    <tr>\n",
              "      <th>2</th>\n",
              "      <td>1</td>\n",
              "      <td>0</td>\n",
              "      <td>0</td>\n",
              "      <td>0</td>\n",
              "      <td>0</td>\n",
              "      <td>101333</td>\n",
              "    </tr>\n",
              "    <tr>\n",
              "      <th>3</th>\n",
              "      <td>1</td>\n",
              "      <td>0</td>\n",
              "      <td>0</td>\n",
              "      <td>0</td>\n",
              "      <td>0</td>\n",
              "      <td>101333</td>\n",
              "    </tr>\n",
              "    <tr>\n",
              "      <th>4</th>\n",
              "      <td>1</td>\n",
              "      <td>0</td>\n",
              "      <td>0</td>\n",
              "      <td>0</td>\n",
              "      <td>0</td>\n",
              "      <td>101333</td>\n",
              "    </tr>\n",
              "    <tr>\n",
              "      <th>...</th>\n",
              "      <td>...</td>\n",
              "      <td>...</td>\n",
              "      <td>...</td>\n",
              "      <td>...</td>\n",
              "      <td>...</td>\n",
              "      <td>...</td>\n",
              "    </tr>\n",
              "    <tr>\n",
              "      <th>5131608</th>\n",
              "      <td>0</td>\n",
              "      <td>0</td>\n",
              "      <td>0</td>\n",
              "      <td>1</td>\n",
              "      <td>0</td>\n",
              "      <td>300123134</td>\n",
              "    </tr>\n",
              "    <tr>\n",
              "      <th>5131609</th>\n",
              "      <td>0</td>\n",
              "      <td>0</td>\n",
              "      <td>0</td>\n",
              "      <td>1</td>\n",
              "      <td>0</td>\n",
              "      <td>300123134</td>\n",
              "    </tr>\n",
              "    <tr>\n",
              "      <th>5131610</th>\n",
              "      <td>0</td>\n",
              "      <td>0</td>\n",
              "      <td>0</td>\n",
              "      <td>1</td>\n",
              "      <td>0</td>\n",
              "      <td>300123134</td>\n",
              "    </tr>\n",
              "    <tr>\n",
              "      <th>5131611</th>\n",
              "      <td>0</td>\n",
              "      <td>0</td>\n",
              "      <td>0</td>\n",
              "      <td>1</td>\n",
              "      <td>0</td>\n",
              "      <td>300123134</td>\n",
              "    </tr>\n",
              "    <tr>\n",
              "      <th>5131612</th>\n",
              "      <td>0</td>\n",
              "      <td>0</td>\n",
              "      <td>0</td>\n",
              "      <td>1</td>\n",
              "      <td>0</td>\n",
              "      <td>300123134</td>\n",
              "    </tr>\n",
              "  </tbody>\n",
              "</table>\n",
              "<p>5131613 rows × 6 columns</p>\n",
              "</div>"
            ],
            "text/plain": [
              "         j_g  j_q  j_w  j_z  j_t    j_index\n",
              "0          1    0    0    0    0     101333\n",
              "1          1    0    0    0    0     101333\n",
              "2          1    0    0    0    0     101333\n",
              "3          1    0    0    0    0     101333\n",
              "4          1    0    0    0    0     101333\n",
              "...      ...  ...  ...  ...  ...        ...\n",
              "5131608    0    0    0    1    0  300123134\n",
              "5131609    0    0    0    1    0  300123134\n",
              "5131610    0    0    0    1    0  300123134\n",
              "5131611    0    0    0    1    0  300123134\n",
              "5131612    0    0    0    1    0  300123134\n",
              "\n",
              "[5131613 rows x 6 columns]"
            ]
          },
          "metadata": {
            "tags": []
          },
          "execution_count": 81
        }
      ]
    },
    {
      "cell_type": "code",
      "metadata": {
        "id": "fQOlKdk9qkZg"
      },
      "source": [
        "labels_df = labels_df.groupby('j_index')"
      ],
      "execution_count": 82,
      "outputs": []
    },
    {
      "cell_type": "code",
      "metadata": {
        "colab": {
          "base_uri": "https://localhost:8080/"
        },
        "id": "44H9KtKiqkZh",
        "outputId": "71b3f02f-7559-4cba-f8da-b93e94b2b90b"
      },
      "source": [
        "labels"
      ],
      "execution_count": 83,
      "outputs": [
        {
          "output_type": "execute_result",
          "data": {
            "text/plain": [
              "['j_g', 'j_q', 'j_w', 'j_z', 'j_t', 'j_index']"
            ]
          },
          "metadata": {
            "tags": []
          },
          "execution_count": 83
        }
      ]
    },
    {
      "cell_type": "markdown",
      "metadata": {
        "id": "7stMxDwvqkZh"
      },
      "source": [
        "### Iterate through Labels Dataframe to return Numpy Array of labels"
      ]
    },
    {
      "cell_type": "code",
      "metadata": {
        "colab": {
          "base_uri": "https://localhost:8080/",
          "height": 450
        },
        "id": "No7ljy0yqkZh",
        "outputId": "647fba89-bf6d-4bc8-b953-2a63d1aef0f4"
      },
      "source": [
        "labels_df.first()"
      ],
      "execution_count": 84,
      "outputs": [
        {
          "output_type": "execute_result",
          "data": {
            "text/html": [
              "<div>\n",
              "<style scoped>\n",
              "    .dataframe tbody tr th:only-of-type {\n",
              "        vertical-align: middle;\n",
              "    }\n",
              "\n",
              "    .dataframe tbody tr th {\n",
              "        vertical-align: top;\n",
              "    }\n",
              "\n",
              "    .dataframe thead th {\n",
              "        text-align: right;\n",
              "    }\n",
              "</style>\n",
              "<table border=\"1\" class=\"dataframe\">\n",
              "  <thead>\n",
              "    <tr style=\"text-align: right;\">\n",
              "      <th></th>\n",
              "      <th>j_g</th>\n",
              "      <th>j_q</th>\n",
              "      <th>j_w</th>\n",
              "      <th>j_z</th>\n",
              "      <th>j_t</th>\n",
              "    </tr>\n",
              "    <tr>\n",
              "      <th>j_index</th>\n",
              "      <th></th>\n",
              "      <th></th>\n",
              "      <th></th>\n",
              "      <th></th>\n",
              "      <th></th>\n",
              "    </tr>\n",
              "  </thead>\n",
              "  <tbody>\n",
              "    <tr>\n",
              "      <th>1</th>\n",
              "      <td>1</td>\n",
              "      <td>0</td>\n",
              "      <td>0</td>\n",
              "      <td>0</td>\n",
              "      <td>0</td>\n",
              "    </tr>\n",
              "    <tr>\n",
              "      <th>3</th>\n",
              "      <td>1</td>\n",
              "      <td>0</td>\n",
              "      <td>0</td>\n",
              "      <td>0</td>\n",
              "      <td>0</td>\n",
              "    </tr>\n",
              "    <tr>\n",
              "      <th>7</th>\n",
              "      <td>1</td>\n",
              "      <td>0</td>\n",
              "      <td>0</td>\n",
              "      <td>0</td>\n",
              "      <td>0</td>\n",
              "    </tr>\n",
              "    <tr>\n",
              "      <th>21</th>\n",
              "      <td>1</td>\n",
              "      <td>0</td>\n",
              "      <td>0</td>\n",
              "      <td>0</td>\n",
              "      <td>0</td>\n",
              "    </tr>\n",
              "    <tr>\n",
              "      <th>23</th>\n",
              "      <td>1</td>\n",
              "      <td>0</td>\n",
              "      <td>0</td>\n",
              "      <td>0</td>\n",
              "      <td>0</td>\n",
              "    </tr>\n",
              "    <tr>\n",
              "      <th>...</th>\n",
              "      <td>...</td>\n",
              "      <td>...</td>\n",
              "      <td>...</td>\n",
              "      <td>...</td>\n",
              "      <td>...</td>\n",
              "    </tr>\n",
              "    <tr>\n",
              "      <th>400199939</th>\n",
              "      <td>0</td>\n",
              "      <td>0</td>\n",
              "      <td>0</td>\n",
              "      <td>0</td>\n",
              "      <td>1</td>\n",
              "    </tr>\n",
              "    <tr>\n",
              "      <th>400199945</th>\n",
              "      <td>0</td>\n",
              "      <td>0</td>\n",
              "      <td>0</td>\n",
              "      <td>0</td>\n",
              "      <td>1</td>\n",
              "    </tr>\n",
              "    <tr>\n",
              "      <th>400199962</th>\n",
              "      <td>0</td>\n",
              "      <td>0</td>\n",
              "      <td>0</td>\n",
              "      <td>0</td>\n",
              "      <td>1</td>\n",
              "    </tr>\n",
              "    <tr>\n",
              "      <th>400199967</th>\n",
              "      <td>0</td>\n",
              "      <td>0</td>\n",
              "      <td>0</td>\n",
              "      <td>0</td>\n",
              "      <td>1</td>\n",
              "    </tr>\n",
              "    <tr>\n",
              "      <th>400199970</th>\n",
              "      <td>0</td>\n",
              "      <td>0</td>\n",
              "      <td>0</td>\n",
              "      <td>0</td>\n",
              "      <td>1</td>\n",
              "    </tr>\n",
              "  </tbody>\n",
              "</table>\n",
              "<p>98769 rows × 5 columns</p>\n",
              "</div>"
            ],
            "text/plain": [
              "           j_g  j_q  j_w  j_z  j_t\n",
              "j_index                           \n",
              "1            1    0    0    0    0\n",
              "3            1    0    0    0    0\n",
              "7            1    0    0    0    0\n",
              "21           1    0    0    0    0\n",
              "23           1    0    0    0    0\n",
              "...        ...  ...  ...  ...  ...\n",
              "400199939    0    0    0    0    1\n",
              "400199945    0    0    0    0    1\n",
              "400199962    0    0    0    0    1\n",
              "400199967    0    0    0    0    1\n",
              "400199970    0    0    0    0    1\n",
              "\n",
              "[98769 rows x 5 columns]"
            ]
          },
          "metadata": {
            "tags": []
          },
          "execution_count": 84
        }
      ]
    },
    {
      "cell_type": "code",
      "metadata": {
        "id": "LtrLyMXKqkZi"
      },
      "source": [
        "labels = np.zeros([98769,5])\n",
        "o = 0\n",
        "for name,  group in labels_df:\n",
        "    x = group.to_numpy()\n",
        "    x = np.delete(x,5,1)\n",
        "    for z in range(5):\n",
        "        labels[o,z] = x[0][z]\n",
        "\n",
        "    o = o+1"
      ],
      "execution_count": 85,
      "outputs": []
    },
    {
      "cell_type": "code",
      "metadata": {
        "id": "aUnRkTjKqkZj"
      },
      "source": [
        "X_train, X_test, y_train, y_test = train_test_split(data, labels, test_size=0.10, random_state=42)\n"
      ],
      "execution_count": 86,
      "outputs": []
    },
    {
      "cell_type": "code",
      "metadata": {
        "colab": {
          "base_uri": "https://localhost:8080/"
        },
        "id": "p2wwCS3MqkZj",
        "outputId": "ff892b17-4c6e-4e20-806f-dd83fd63ab2f"
      },
      "source": [
        "X_train[0]"
      ],
      "execution_count": 87,
      "outputs": [
        {
          "output_type": "execute_result",
          "data": {
            "text/plain": [
              "array([[ 1.61001340e-01,  0.00000000e+00,  0.00000000e+00,\n",
              "         1.60326317e-01,  1.11463722e-02],\n",
              "       [ 1.60464019e-01, -4.86575440e-03, -5.62249217e-03,\n",
              "         1.60189137e-01,  3.86382407e-03],\n",
              "       [ 6.71543330e-02, -9.25861392e-03, -2.12989207e-02,\n",
              "         6.74036667e-02,  1.38298804e-02],\n",
              "       [ 6.18689321e-02, -6.42316509e-03,  1.88481281e-04,\n",
              "         6.16782084e-02,  7.90783111e-03],\n",
              "       [ 6.08320236e-02, -5.71347633e-03, -2.02445104e-03,\n",
              "         6.06748722e-02,  6.03707461e-03],\n",
              "       [ 5.07170968e-02, -4.59569460e-03, -1.22880964e-02,\n",
              "         5.07255830e-02,  6.00974401e-03],\n",
              "       [ 4.45335656e-02,  1.67790067e-03, -1.02140596e-02,\n",
              "         4.44625840e-02,  1.02788378e-02],\n",
              "       [ 4.00959700e-02, -9.51775641e-04,  1.23365968e-03,\n",
              "         3.99208479e-02,  1.13803614e-02],\n",
              "       [ 3.26830596e-02,  5.62963833e-04, -5.67502575e-03,\n",
              "         3.25950906e-02,  8.99010152e-03],\n",
              "       [ 2.90664714e-02, -6.79911152e-02, -2.03331211e-03,\n",
              "         2.93377787e-02,  5.99708930e-02],\n",
              "       [ 2.67541092e-02, -2.50868537e-02, -7.48693803e-03,\n",
              "         2.68244091e-02,  1.68483071e-02],\n",
              "       [ 2.63197441e-02, -2.40394846e-02, -2.55384520e-02,\n",
              "         2.65273824e-02,  2.39777416e-02],\n",
              "       [ 2.48543750e-02, -3.64914257e-03, -2.97635701e-03,\n",
              "         2.47874763e-02,  6.44959975e-03],\n",
              "       [ 2.29168478e-02, -7.52853602e-03, -1.83042046e-02,\n",
              "         2.29738187e-02,  1.08201597e-02],\n",
              "       [ 2.22070049e-02, -4.50259633e-02,  2.05677766e-02,\n",
              "         2.21660472e-02,  4.62604165e-02],\n",
              "       [ 2.13025361e-02,  3.00827809e-03, -2.29949411e-02,\n",
              "         2.13429686e-02,  1.91412251e-02],\n",
              "       [ 1.70826390e-02, -2.23166286e-03, -4.24758680e-02,\n",
              "         1.72331650e-02,  3.54902893e-02],\n",
              "       [ 1.57654751e-02, -1.37584248e-05, -5.08276935e-05,\n",
              "         1.56996399e-02,  1.11020021e-02],\n",
              "       [ 1.52157061e-02, -1.17402365e-02, -1.56061631e-02,\n",
              "         1.52535317e-02,  8.82335566e-03],\n",
              "       [ 1.50264269e-02, -7.86132924e-03, -2.77672341e-04,\n",
              "         1.49859814e-02,  7.24039227e-03]])"
            ]
          },
          "metadata": {
            "tags": []
          },
          "execution_count": 87
        }
      ]
    },
    {
      "cell_type": "code",
      "metadata": {
        "colab": {
          "base_uri": "https://localhost:8080/"
        },
        "id": "vsSMXgE3qkZk",
        "outputId": "5c93c606-31cc-4f65-d39b-8fdd98474baa"
      },
      "source": [
        "Inputs = Input(shape=(20,6))\n",
        "x = LSTM(32, kernel_initializer = 'VarianceScaling', kernel_regularizer = regularizers.l1_l2(l1= 9.999E-5, l2 = 0.0), name = 'lstm1')(Inputs)\n",
        "x = Dense(128, activation='relu', kernel_initializer='lecun_uniform', name='fc4')(x)\n",
        "x= Dropout(rate = 0.3)(x)\n",
        "x = Dense(64, activation='relu', kernel_initializer='lecun_uniform', name='fc7')(x)\n",
        "predictions = Dense(5, activation='softmax', kernel_initializer='lecun_uniform', name = 'output_sigmoid')(x)\n",
        "model = Model(inputs=Inputs, outputs=predictions)\n",
        "model.summary()\n"
      ],
      "execution_count": 99,
      "outputs": [
        {
          "output_type": "stream",
          "text": [
            "Model: \"model_6\"\n",
            "_________________________________________________________________\n",
            "Layer (type)                 Output Shape              Param #   \n",
            "=================================================================\n",
            "input_7 (InputLayer)         [(None, 20, 6)]           0         \n",
            "_________________________________________________________________\n",
            "lstm1 (LSTM)                 (None, 32)                4992      \n",
            "_________________________________________________________________\n",
            "fc4 (Dense)                  (None, 128)               4224      \n",
            "_________________________________________________________________\n",
            "dropout_6 (Dropout)          (None, 128)               0         \n",
            "_________________________________________________________________\n",
            "fc7 (Dense)                  (None, 64)                8256      \n",
            "_________________________________________________________________\n",
            "output_sigmoid (Dense)       (None, 5)                 325       \n",
            "=================================================================\n",
            "Total params: 17,797\n",
            "Trainable params: 17,797\n",
            "Non-trainable params: 0\n",
            "_________________________________________________________________\n"
          ],
          "name": "stdout"
        }
      ]
    },
    {
      "cell_type": "code",
      "metadata": {
        "colab": {
          "base_uri": "https://localhost:8080/"
        },
        "id": "s9pQk7pqqkZl",
        "outputId": "1718ea22-a633-4a1d-8f28-c709134125a4"
      },
      "source": [
        "adam = Adam(lr = 0.0002)\n",
        "model.compile(optimizer='adam', loss='categorical_crossentropy', metrics=['accuracy'])\n",
        "history = model.fit(X_train.astype('float32'), y_train.astype('float32'), batch_size = 256, epochs = 150, \n",
        "                    validation_split = 0.2, shuffle = True, callbacks = None,\n",
        "                    use_multiprocessing=True, workers=4)"
      ],
      "execution_count": 91,
      "outputs": [
        {
          "output_type": "stream",
          "text": [
            "Epoch 1/150\n",
            "278/278 [==============================] - 4s 7ms/step - loss: 1.3410 - accuracy: 0.4189 - val_loss: 1.0609 - val_accuracy: 0.5965\n",
            "Epoch 2/150\n",
            "278/278 [==============================] - 1s 5ms/step - loss: 1.0624 - accuracy: 0.5924 - val_loss: 0.9909 - val_accuracy: 0.6255\n",
            "Epoch 3/150\n",
            "278/278 [==============================] - 1s 5ms/step - loss: 0.9989 - accuracy: 0.6279 - val_loss: 0.9602 - val_accuracy: 0.6455\n",
            "Epoch 4/150\n",
            "278/278 [==============================] - 1s 5ms/step - loss: 0.9731 - accuracy: 0.6415 - val_loss: 0.9525 - val_accuracy: 0.6520\n",
            "Epoch 5/150\n",
            "278/278 [==============================] - 1s 5ms/step - loss: 0.9489 - accuracy: 0.6548 - val_loss: 0.9299 - val_accuracy: 0.6599\n",
            "Epoch 6/150\n",
            "278/278 [==============================] - 1s 5ms/step - loss: 0.9433 - accuracy: 0.6571 - val_loss: 0.9142 - val_accuracy: 0.6672\n",
            "Epoch 7/150\n",
            "278/278 [==============================] - 1s 5ms/step - loss: 0.9343 - accuracy: 0.6584 - val_loss: 0.9275 - val_accuracy: 0.6597\n",
            "Epoch 8/150\n",
            "278/278 [==============================] - 1s 5ms/step - loss: 0.9187 - accuracy: 0.6673 - val_loss: 0.9071 - val_accuracy: 0.6730\n",
            "Epoch 9/150\n",
            "278/278 [==============================] - 1s 5ms/step - loss: 0.9105 - accuracy: 0.6718 - val_loss: 0.9115 - val_accuracy: 0.6677\n",
            "Epoch 10/150\n",
            "278/278 [==============================] - 1s 5ms/step - loss: 0.8985 - accuracy: 0.6749 - val_loss: 0.8958 - val_accuracy: 0.6783\n",
            "Epoch 11/150\n",
            "278/278 [==============================] - 1s 5ms/step - loss: 0.9018 - accuracy: 0.6753 - val_loss: 0.8921 - val_accuracy: 0.6795\n",
            "Epoch 12/150\n",
            "278/278 [==============================] - 1s 5ms/step - loss: 0.8916 - accuracy: 0.6805 - val_loss: 0.9192 - val_accuracy: 0.6609\n",
            "Epoch 13/150\n",
            "278/278 [==============================] - 1s 5ms/step - loss: 0.8906 - accuracy: 0.6794 - val_loss: 0.8912 - val_accuracy: 0.6771\n",
            "Epoch 14/150\n",
            "278/278 [==============================] - 1s 5ms/step - loss: 0.8851 - accuracy: 0.6845 - val_loss: 0.8929 - val_accuracy: 0.6764\n",
            "Epoch 15/150\n",
            "278/278 [==============================] - 1s 5ms/step - loss: 0.8904 - accuracy: 0.6786 - val_loss: 0.8902 - val_accuracy: 0.6823\n",
            "Epoch 16/150\n",
            "278/278 [==============================] - 1s 5ms/step - loss: 0.8777 - accuracy: 0.6885 - val_loss: 0.8636 - val_accuracy: 0.6920\n",
            "Epoch 17/150\n",
            "278/278 [==============================] - 1s 5ms/step - loss: 0.8700 - accuracy: 0.6887 - val_loss: 0.8680 - val_accuracy: 0.6903\n",
            "Epoch 18/150\n",
            "278/278 [==============================] - 1s 5ms/step - loss: 0.8748 - accuracy: 0.6891 - val_loss: 0.8774 - val_accuracy: 0.6847\n",
            "Epoch 19/150\n",
            "278/278 [==============================] - 1s 5ms/step - loss: 0.8665 - accuracy: 0.6887 - val_loss: 0.8657 - val_accuracy: 0.6901\n",
            "Epoch 20/150\n",
            "278/278 [==============================] - 1s 5ms/step - loss: 0.8671 - accuracy: 0.6912 - val_loss: 0.8561 - val_accuracy: 0.6944\n",
            "Epoch 21/150\n",
            "278/278 [==============================] - 1s 5ms/step - loss: 0.8613 - accuracy: 0.6925 - val_loss: 0.8623 - val_accuracy: 0.6927\n",
            "Epoch 22/150\n",
            "278/278 [==============================] - 1s 5ms/step - loss: 0.8639 - accuracy: 0.6935 - val_loss: 0.8635 - val_accuracy: 0.6906\n",
            "Epoch 23/150\n",
            "278/278 [==============================] - 1s 5ms/step - loss: 0.8551 - accuracy: 0.6939 - val_loss: 0.8567 - val_accuracy: 0.6960\n",
            "Epoch 24/150\n",
            "278/278 [==============================] - 1s 5ms/step - loss: 0.8544 - accuracy: 0.6959 - val_loss: 0.8585 - val_accuracy: 0.6941\n",
            "Epoch 25/150\n",
            "278/278 [==============================] - 1s 5ms/step - loss: 0.8595 - accuracy: 0.6939 - val_loss: 0.8637 - val_accuracy: 0.6919\n",
            "Epoch 26/150\n",
            "278/278 [==============================] - 1s 5ms/step - loss: 0.8540 - accuracy: 0.6954 - val_loss: 0.8517 - val_accuracy: 0.6989\n",
            "Epoch 27/150\n",
            "278/278 [==============================] - 1s 5ms/step - loss: 0.8512 - accuracy: 0.6968 - val_loss: 0.8503 - val_accuracy: 0.6948\n",
            "Epoch 28/150\n",
            "278/278 [==============================] - 1s 5ms/step - loss: 0.8582 - accuracy: 0.6934 - val_loss: 0.8488 - val_accuracy: 0.7004\n",
            "Epoch 29/150\n",
            "278/278 [==============================] - 1s 5ms/step - loss: 0.8540 - accuracy: 0.6956 - val_loss: 0.8527 - val_accuracy: 0.6964\n",
            "Epoch 30/150\n",
            "278/278 [==============================] - 1s 5ms/step - loss: 0.8513 - accuracy: 0.6978 - val_loss: 0.8429 - val_accuracy: 0.7008\n",
            "Epoch 31/150\n",
            "278/278 [==============================] - 1s 5ms/step - loss: 0.8454 - accuracy: 0.7001 - val_loss: 0.8423 - val_accuracy: 0.7003\n",
            "Epoch 32/150\n",
            "278/278 [==============================] - 1s 5ms/step - loss: 0.8449 - accuracy: 0.6988 - val_loss: 0.8505 - val_accuracy: 0.6982\n",
            "Epoch 33/150\n",
            "278/278 [==============================] - 1s 5ms/step - loss: 0.8454 - accuracy: 0.6996 - val_loss: 0.8407 - val_accuracy: 0.7034\n",
            "Epoch 34/150\n",
            "278/278 [==============================] - 1s 5ms/step - loss: 0.8395 - accuracy: 0.7033 - val_loss: 0.8481 - val_accuracy: 0.7016\n",
            "Epoch 35/150\n",
            "278/278 [==============================] - 1s 5ms/step - loss: 0.8424 - accuracy: 0.7009 - val_loss: 0.8578 - val_accuracy: 0.6959\n",
            "Epoch 36/150\n",
            "278/278 [==============================] - 1s 5ms/step - loss: 0.8401 - accuracy: 0.7038 - val_loss: 0.8453 - val_accuracy: 0.6999\n",
            "Epoch 37/150\n",
            "278/278 [==============================] - 1s 5ms/step - loss: 0.8391 - accuracy: 0.7032 - val_loss: 0.8384 - val_accuracy: 0.7020\n",
            "Epoch 38/150\n",
            "278/278 [==============================] - 1s 5ms/step - loss: 0.8371 - accuracy: 0.7045 - val_loss: 0.8300 - val_accuracy: 0.7058\n",
            "Epoch 39/150\n",
            "278/278 [==============================] - 1s 5ms/step - loss: 0.8367 - accuracy: 0.7018 - val_loss: 0.8949 - val_accuracy: 0.6706\n",
            "Epoch 40/150\n",
            "278/278 [==============================] - 1s 5ms/step - loss: 0.8427 - accuracy: 0.6996 - val_loss: 0.8549 - val_accuracy: 0.6929\n",
            "Epoch 41/150\n",
            "278/278 [==============================] - 1s 5ms/step - loss: 0.8323 - accuracy: 0.7057 - val_loss: 0.8358 - val_accuracy: 0.7026\n",
            "Epoch 42/150\n",
            "278/278 [==============================] - 1s 5ms/step - loss: 0.8347 - accuracy: 0.7043 - val_loss: 0.8413 - val_accuracy: 0.7003\n",
            "Epoch 43/150\n",
            "278/278 [==============================] - 1s 5ms/step - loss: 0.8271 - accuracy: 0.7094 - val_loss: 0.8471 - val_accuracy: 0.6957\n",
            "Epoch 44/150\n",
            "278/278 [==============================] - 1s 5ms/step - loss: 0.8310 - accuracy: 0.7044 - val_loss: 0.8386 - val_accuracy: 0.7025\n",
            "Epoch 45/150\n",
            "278/278 [==============================] - 1s 5ms/step - loss: 0.8345 - accuracy: 0.7043 - val_loss: 0.8353 - val_accuracy: 0.7036\n",
            "Epoch 46/150\n",
            "278/278 [==============================] - 1s 5ms/step - loss: 0.8331 - accuracy: 0.7047 - val_loss: 0.8340 - val_accuracy: 0.7051\n",
            "Epoch 47/150\n",
            "278/278 [==============================] - 1s 5ms/step - loss: 0.8241 - accuracy: 0.7067 - val_loss: 0.8408 - val_accuracy: 0.7004\n",
            "Epoch 48/150\n",
            "278/278 [==============================] - 1s 5ms/step - loss: 0.8239 - accuracy: 0.7065 - val_loss: 0.8325 - val_accuracy: 0.7081\n",
            "Epoch 49/150\n",
            "278/278 [==============================] - 1s 5ms/step - loss: 0.8351 - accuracy: 0.7020 - val_loss: 0.8259 - val_accuracy: 0.7086\n",
            "Epoch 50/150\n",
            "278/278 [==============================] - 1s 5ms/step - loss: 0.8271 - accuracy: 0.7046 - val_loss: 0.8281 - val_accuracy: 0.7053\n",
            "Epoch 51/150\n",
            "278/278 [==============================] - 1s 5ms/step - loss: 0.8222 - accuracy: 0.7079 - val_loss: 0.8342 - val_accuracy: 0.7045\n",
            "Epoch 52/150\n",
            "278/278 [==============================] - 1s 5ms/step - loss: 0.8247 - accuracy: 0.7081 - val_loss: 0.8509 - val_accuracy: 0.6936\n",
            "Epoch 53/150\n",
            "278/278 [==============================] - 1s 5ms/step - loss: 0.8204 - accuracy: 0.7080 - val_loss: 0.8214 - val_accuracy: 0.7083\n",
            "Epoch 54/150\n",
            "278/278 [==============================] - 1s 5ms/step - loss: 0.8246 - accuracy: 0.7079 - val_loss: 0.8248 - val_accuracy: 0.7091\n",
            "Epoch 55/150\n",
            "278/278 [==============================] - 1s 5ms/step - loss: 0.8256 - accuracy: 0.7084 - val_loss: 0.8295 - val_accuracy: 0.7050\n",
            "Epoch 56/150\n",
            "278/278 [==============================] - 1s 5ms/step - loss: 0.8262 - accuracy: 0.7064 - val_loss: 0.8226 - val_accuracy: 0.7099\n",
            "Epoch 57/150\n",
            "278/278 [==============================] - 1s 5ms/step - loss: 0.8114 - accuracy: 0.7136 - val_loss: 0.8386 - val_accuracy: 0.7016\n",
            "Epoch 58/150\n",
            "278/278 [==============================] - 1s 5ms/step - loss: 0.8232 - accuracy: 0.7078 - val_loss: 0.8295 - val_accuracy: 0.7065\n",
            "Epoch 59/150\n",
            "278/278 [==============================] - 1s 5ms/step - loss: 0.8204 - accuracy: 0.7089 - val_loss: 0.8326 - val_accuracy: 0.7062\n",
            "Epoch 60/150\n",
            "278/278 [==============================] - 1s 5ms/step - loss: 0.8195 - accuracy: 0.7110 - val_loss: 0.8261 - val_accuracy: 0.7074\n",
            "Epoch 61/150\n",
            "278/278 [==============================] - 1s 5ms/step - loss: 0.8152 - accuracy: 0.7099 - val_loss: 0.8215 - val_accuracy: 0.7099\n",
            "Epoch 62/150\n",
            "278/278 [==============================] - 1s 5ms/step - loss: 0.8135 - accuracy: 0.7131 - val_loss: 0.8166 - val_accuracy: 0.7113\n",
            "Epoch 63/150\n",
            "278/278 [==============================] - 1s 5ms/step - loss: 0.8168 - accuracy: 0.7086 - val_loss: 0.8253 - val_accuracy: 0.7083\n",
            "Epoch 64/150\n",
            "278/278 [==============================] - 1s 5ms/step - loss: 0.8119 - accuracy: 0.7123 - val_loss: 0.8510 - val_accuracy: 0.6952\n",
            "Epoch 65/150\n",
            "278/278 [==============================] - 1s 5ms/step - loss: 0.8178 - accuracy: 0.7103 - val_loss: 0.8235 - val_accuracy: 0.7086\n",
            "Epoch 66/150\n",
            "278/278 [==============================] - 1s 5ms/step - loss: 0.8115 - accuracy: 0.7122 - val_loss: 0.8266 - val_accuracy: 0.7050\n",
            "Epoch 67/150\n",
            "278/278 [==============================] - 1s 5ms/step - loss: 0.8130 - accuracy: 0.7106 - val_loss: 0.8222 - val_accuracy: 0.7090\n",
            "Epoch 68/150\n",
            "278/278 [==============================] - 1s 5ms/step - loss: 0.8052 - accuracy: 0.7147 - val_loss: 0.8197 - val_accuracy: 0.7091\n",
            "Epoch 69/150\n",
            "278/278 [==============================] - 1s 5ms/step - loss: 0.8086 - accuracy: 0.7129 - val_loss: 0.8232 - val_accuracy: 0.7079\n",
            "Epoch 70/150\n",
            "278/278 [==============================] - 1s 5ms/step - loss: 0.8064 - accuracy: 0.7143 - val_loss: 0.8111 - val_accuracy: 0.7131\n",
            "Epoch 71/150\n",
            "278/278 [==============================] - 1s 5ms/step - loss: 0.8108 - accuracy: 0.7138 - val_loss: 0.8174 - val_accuracy: 0.7116\n",
            "Epoch 72/150\n",
            "278/278 [==============================] - 1s 5ms/step - loss: 0.8124 - accuracy: 0.7137 - val_loss: 0.8203 - val_accuracy: 0.7088\n",
            "Epoch 73/150\n",
            "278/278 [==============================] - 1s 5ms/step - loss: 0.8095 - accuracy: 0.7138 - val_loss: 0.8192 - val_accuracy: 0.7093\n",
            "Epoch 74/150\n",
            "278/278 [==============================] - 1s 5ms/step - loss: 0.8038 - accuracy: 0.7136 - val_loss: 0.8327 - val_accuracy: 0.7038\n",
            "Epoch 75/150\n",
            "278/278 [==============================] - 1s 5ms/step - loss: 0.8163 - accuracy: 0.7106 - val_loss: 0.8171 - val_accuracy: 0.7107\n",
            "Epoch 76/150\n",
            "278/278 [==============================] - 1s 5ms/step - loss: 0.8057 - accuracy: 0.7158 - val_loss: 0.8319 - val_accuracy: 0.7036\n",
            "Epoch 77/150\n",
            "278/278 [==============================] - 1s 5ms/step - loss: 0.8077 - accuracy: 0.7130 - val_loss: 0.8356 - val_accuracy: 0.7032\n",
            "Epoch 78/150\n",
            "278/278 [==============================] - 1s 5ms/step - loss: 0.8107 - accuracy: 0.7136 - val_loss: 0.8091 - val_accuracy: 0.7158\n",
            "Epoch 79/150\n",
            "278/278 [==============================] - 1s 5ms/step - loss: 0.8040 - accuracy: 0.7164 - val_loss: 0.8157 - val_accuracy: 0.7125\n",
            "Epoch 80/150\n",
            "278/278 [==============================] - 1s 5ms/step - loss: 0.8060 - accuracy: 0.7139 - val_loss: 0.8299 - val_accuracy: 0.7067\n",
            "Epoch 81/150\n",
            "278/278 [==============================] - 1s 5ms/step - loss: 0.8138 - accuracy: 0.7121 - val_loss: 0.8114 - val_accuracy: 0.7149\n",
            "Epoch 82/150\n",
            "278/278 [==============================] - 1s 5ms/step - loss: 0.7981 - accuracy: 0.7176 - val_loss: 0.8138 - val_accuracy: 0.7130\n",
            "Epoch 83/150\n",
            "278/278 [==============================] - 1s 5ms/step - loss: 0.8080 - accuracy: 0.7143 - val_loss: 0.8139 - val_accuracy: 0.7134\n",
            "Epoch 84/150\n",
            "278/278 [==============================] - 1s 5ms/step - loss: 0.8048 - accuracy: 0.7146 - val_loss: 0.8175 - val_accuracy: 0.7091\n",
            "Epoch 85/150\n",
            "278/278 [==============================] - 1s 5ms/step - loss: 0.7986 - accuracy: 0.7183 - val_loss: 0.8110 - val_accuracy: 0.7133\n",
            "Epoch 86/150\n",
            "278/278 [==============================] - 1s 5ms/step - loss: 0.8015 - accuracy: 0.7162 - val_loss: 0.8342 - val_accuracy: 0.6997\n",
            "Epoch 87/150\n",
            "278/278 [==============================] - 1s 5ms/step - loss: 0.8068 - accuracy: 0.7131 - val_loss: 0.8333 - val_accuracy: 0.7041\n",
            "Epoch 88/150\n",
            "278/278 [==============================] - 2s 5ms/step - loss: 0.8044 - accuracy: 0.7153 - val_loss: 0.8066 - val_accuracy: 0.7148\n",
            "Epoch 89/150\n",
            "278/278 [==============================] - 1s 5ms/step - loss: 0.8097 - accuracy: 0.7135 - val_loss: 0.8125 - val_accuracy: 0.7155\n",
            "Epoch 90/150\n",
            "278/278 [==============================] - 1s 5ms/step - loss: 0.7960 - accuracy: 0.7177 - val_loss: 0.8068 - val_accuracy: 0.7159\n",
            "Epoch 91/150\n",
            "278/278 [==============================] - 1s 5ms/step - loss: 0.8042 - accuracy: 0.7137 - val_loss: 0.8095 - val_accuracy: 0.7158\n",
            "Epoch 92/150\n",
            "278/278 [==============================] - 1s 5ms/step - loss: 0.8005 - accuracy: 0.7173 - val_loss: 0.8102 - val_accuracy: 0.7113\n",
            "Epoch 93/150\n",
            "278/278 [==============================] - 1s 5ms/step - loss: 0.8027 - accuracy: 0.7171 - val_loss: 0.8058 - val_accuracy: 0.7167\n",
            "Epoch 94/150\n",
            "278/278 [==============================] - 1s 5ms/step - loss: 0.7979 - accuracy: 0.7179 - val_loss: 0.8146 - val_accuracy: 0.7135\n",
            "Epoch 95/150\n",
            "278/278 [==============================] - 1s 5ms/step - loss: 0.8054 - accuracy: 0.7143 - val_loss: 0.8169 - val_accuracy: 0.7144\n",
            "Epoch 96/150\n",
            "278/278 [==============================] - 1s 5ms/step - loss: 0.8010 - accuracy: 0.7182 - val_loss: 0.8220 - val_accuracy: 0.7077\n",
            "Epoch 97/150\n",
            "278/278 [==============================] - 1s 5ms/step - loss: 0.8019 - accuracy: 0.7158 - val_loss: 0.8137 - val_accuracy: 0.7117\n",
            "Epoch 98/150\n",
            "278/278 [==============================] - 1s 5ms/step - loss: 0.7939 - accuracy: 0.7202 - val_loss: 0.8109 - val_accuracy: 0.7123\n",
            "Epoch 99/150\n",
            "278/278 [==============================] - 1s 5ms/step - loss: 0.7933 - accuracy: 0.7190 - val_loss: 0.8059 - val_accuracy: 0.7161\n",
            "Epoch 100/150\n",
            "278/278 [==============================] - 1s 5ms/step - loss: 0.7969 - accuracy: 0.7173 - val_loss: 0.8032 - val_accuracy: 0.7170\n",
            "Epoch 101/150\n",
            "278/278 [==============================] - 1s 5ms/step - loss: 0.7917 - accuracy: 0.7206 - val_loss: 0.8063 - val_accuracy: 0.7162\n",
            "Epoch 102/150\n",
            "278/278 [==============================] - 1s 5ms/step - loss: 0.7926 - accuracy: 0.7211 - val_loss: 0.8128 - val_accuracy: 0.7129\n",
            "Epoch 103/150\n",
            "278/278 [==============================] - 1s 5ms/step - loss: 0.8004 - accuracy: 0.7159 - val_loss: 0.8052 - val_accuracy: 0.7167\n",
            "Epoch 104/150\n",
            "278/278 [==============================] - 1s 5ms/step - loss: 0.7926 - accuracy: 0.7207 - val_loss: 0.8188 - val_accuracy: 0.7110\n",
            "Epoch 105/150\n",
            "278/278 [==============================] - 1s 5ms/step - loss: 0.7934 - accuracy: 0.7196 - val_loss: 0.8191 - val_accuracy: 0.7101\n",
            "Epoch 106/150\n",
            "278/278 [==============================] - 1s 5ms/step - loss: 0.7987 - accuracy: 0.7147 - val_loss: 0.8030 - val_accuracy: 0.7180\n",
            "Epoch 107/150\n",
            "278/278 [==============================] - 1s 5ms/step - loss: 0.7901 - accuracy: 0.7206 - val_loss: 0.8021 - val_accuracy: 0.7192\n",
            "Epoch 108/150\n",
            "278/278 [==============================] - 1s 5ms/step - loss: 0.7983 - accuracy: 0.7179 - val_loss: 0.8064 - val_accuracy: 0.7170\n",
            "Epoch 109/150\n",
            "278/278 [==============================] - 1s 5ms/step - loss: 0.7961 - accuracy: 0.7178 - val_loss: 0.8126 - val_accuracy: 0.7141\n",
            "Epoch 110/150\n",
            "278/278 [==============================] - 1s 5ms/step - loss: 0.7909 - accuracy: 0.7196 - val_loss: 0.8081 - val_accuracy: 0.7143\n",
            "Epoch 111/150\n",
            "278/278 [==============================] - 1s 5ms/step - loss: 0.7985 - accuracy: 0.7184 - val_loss: 0.8090 - val_accuracy: 0.7160\n",
            "Epoch 112/150\n",
            "278/278 [==============================] - 1s 5ms/step - loss: 0.7924 - accuracy: 0.7202 - val_loss: 0.8079 - val_accuracy: 0.7143\n",
            "Epoch 113/150\n",
            "278/278 [==============================] - 1s 5ms/step - loss: 0.7860 - accuracy: 0.7225 - val_loss: 0.8065 - val_accuracy: 0.7169\n",
            "Epoch 114/150\n",
            "278/278 [==============================] - 1s 5ms/step - loss: 0.7896 - accuracy: 0.7216 - val_loss: 0.8120 - val_accuracy: 0.7132\n",
            "Epoch 115/150\n",
            "278/278 [==============================] - 1s 5ms/step - loss: 0.7889 - accuracy: 0.7217 - val_loss: 0.8100 - val_accuracy: 0.7165\n",
            "Epoch 116/150\n",
            "278/278 [==============================] - 1s 5ms/step - loss: 0.7855 - accuracy: 0.7207 - val_loss: 0.8141 - val_accuracy: 0.7113\n",
            "Epoch 117/150\n",
            "278/278 [==============================] - 1s 5ms/step - loss: 0.7864 - accuracy: 0.7199 - val_loss: 0.8021 - val_accuracy: 0.7171\n",
            "Epoch 118/150\n",
            "278/278 [==============================] - 1s 5ms/step - loss: 0.7925 - accuracy: 0.7195 - val_loss: 0.8161 - val_accuracy: 0.7119\n",
            "Epoch 119/150\n",
            "278/278 [==============================] - 1s 5ms/step - loss: 0.7930 - accuracy: 0.7199 - val_loss: 0.8268 - val_accuracy: 0.7088\n",
            "Epoch 120/150\n",
            "278/278 [==============================] - 1s 5ms/step - loss: 0.7968 - accuracy: 0.7192 - val_loss: 0.8063 - val_accuracy: 0.7170\n",
            "Epoch 121/150\n",
            "278/278 [==============================] - 1s 5ms/step - loss: 0.7875 - accuracy: 0.7217 - val_loss: 0.8088 - val_accuracy: 0.7146\n",
            "Epoch 122/150\n",
            "278/278 [==============================] - 1s 5ms/step - loss: 0.7904 - accuracy: 0.7195 - val_loss: 0.8078 - val_accuracy: 0.7182\n",
            "Epoch 123/150\n",
            "278/278 [==============================] - 1s 5ms/step - loss: 0.7867 - accuracy: 0.7235 - val_loss: 0.8042 - val_accuracy: 0.7176\n",
            "Epoch 124/150\n",
            "278/278 [==============================] - 1s 5ms/step - loss: 0.7927 - accuracy: 0.7190 - val_loss: 0.8029 - val_accuracy: 0.7180\n",
            "Epoch 125/150\n",
            "278/278 [==============================] - 1s 5ms/step - loss: 0.7846 - accuracy: 0.7242 - val_loss: 0.8020 - val_accuracy: 0.7194\n",
            "Epoch 126/150\n",
            "278/278 [==============================] - 1s 5ms/step - loss: 0.7887 - accuracy: 0.7202 - val_loss: 0.8110 - val_accuracy: 0.7150\n",
            "Epoch 127/150\n",
            "278/278 [==============================] - 1s 5ms/step - loss: 0.7837 - accuracy: 0.7234 - val_loss: 0.8015 - val_accuracy: 0.7200\n",
            "Epoch 128/150\n",
            "278/278 [==============================] - 1s 5ms/step - loss: 0.7845 - accuracy: 0.7220 - val_loss: 0.8126 - val_accuracy: 0.7147\n",
            "Epoch 129/150\n",
            "278/278 [==============================] - 1s 5ms/step - loss: 0.7903 - accuracy: 0.7198 - val_loss: 0.8034 - val_accuracy: 0.7176\n",
            "Epoch 130/150\n",
            "278/278 [==============================] - 1s 5ms/step - loss: 0.7869 - accuracy: 0.7231 - val_loss: 0.8129 - val_accuracy: 0.7143\n",
            "Epoch 131/150\n",
            "278/278 [==============================] - 1s 5ms/step - loss: 0.7858 - accuracy: 0.7220 - val_loss: 0.8110 - val_accuracy: 0.7142\n",
            "Epoch 132/150\n",
            "278/278 [==============================] - 1s 5ms/step - loss: 0.7907 - accuracy: 0.7205 - val_loss: 0.8234 - val_accuracy: 0.7099\n",
            "Epoch 133/150\n",
            "278/278 [==============================] - 1s 5ms/step - loss: 0.7879 - accuracy: 0.7209 - val_loss: 0.8047 - val_accuracy: 0.7191\n",
            "Epoch 134/150\n",
            "278/278 [==============================] - 1s 5ms/step - loss: 0.7850 - accuracy: 0.7237 - val_loss: 0.8048 - val_accuracy: 0.7181\n",
            "Epoch 135/150\n",
            "278/278 [==============================] - 1s 5ms/step - loss: 0.7849 - accuracy: 0.7224 - val_loss: 0.7992 - val_accuracy: 0.7210\n",
            "Epoch 136/150\n",
            "278/278 [==============================] - 1s 5ms/step - loss: 0.7909 - accuracy: 0.7219 - val_loss: 0.7978 - val_accuracy: 0.7211\n",
            "Epoch 137/150\n",
            "278/278 [==============================] - 1s 5ms/step - loss: 0.7761 - accuracy: 0.7268 - val_loss: 0.8021 - val_accuracy: 0.7187\n",
            "Epoch 138/150\n",
            "278/278 [==============================] - 1s 5ms/step - loss: 0.7773 - accuracy: 0.7259 - val_loss: 0.8014 - val_accuracy: 0.7181\n",
            "Epoch 139/150\n",
            "278/278 [==============================] - 1s 5ms/step - loss: 0.7808 - accuracy: 0.7225 - val_loss: 0.8063 - val_accuracy: 0.7188\n",
            "Epoch 140/150\n",
            "278/278 [==============================] - 1s 5ms/step - loss: 0.7833 - accuracy: 0.7225 - val_loss: 0.8036 - val_accuracy: 0.7176\n",
            "Epoch 141/150\n",
            "278/278 [==============================] - 1s 5ms/step - loss: 0.7810 - accuracy: 0.7234 - val_loss: 0.8081 - val_accuracy: 0.7182\n",
            "Epoch 142/150\n",
            "278/278 [==============================] - 1s 5ms/step - loss: 0.7847 - accuracy: 0.7230 - val_loss: 0.8012 - val_accuracy: 0.7201\n",
            "Epoch 143/150\n",
            "278/278 [==============================] - 1s 5ms/step - loss: 0.7858 - accuracy: 0.7235 - val_loss: 0.8011 - val_accuracy: 0.7180\n",
            "Epoch 144/150\n",
            "278/278 [==============================] - 1s 5ms/step - loss: 0.7804 - accuracy: 0.7260 - val_loss: 0.8049 - val_accuracy: 0.7160\n",
            "Epoch 145/150\n",
            "278/278 [==============================] - 1s 5ms/step - loss: 0.7832 - accuracy: 0.7232 - val_loss: 0.8241 - val_accuracy: 0.7106\n",
            "Epoch 146/150\n",
            "278/278 [==============================] - 1s 5ms/step - loss: 0.7830 - accuracy: 0.7219 - val_loss: 0.8056 - val_accuracy: 0.7160\n",
            "Epoch 147/150\n",
            "278/278 [==============================] - 2s 5ms/step - loss: 0.7831 - accuracy: 0.7233 - val_loss: 0.8005 - val_accuracy: 0.7221\n",
            "Epoch 148/150\n",
            "278/278 [==============================] - 1s 5ms/step - loss: 0.7821 - accuracy: 0.7241 - val_loss: 0.8090 - val_accuracy: 0.7170\n",
            "Epoch 149/150\n",
            "278/278 [==============================] - 1s 5ms/step - loss: 0.7791 - accuracy: 0.7235 - val_loss: 0.8089 - val_accuracy: 0.7148\n",
            "Epoch 150/150\n",
            "278/278 [==============================] - 1s 5ms/step - loss: 0.7828 - accuracy: 0.7210 - val_loss: 0.7953 - val_accuracy: 0.7227\n"
          ],
          "name": "stdout"
        }
      ]
    },
    {
      "cell_type": "code",
      "metadata": {
        "id": "wzPmyknqqkZm"
      },
      "source": [
        "import matplotlib.pyplot as plt\n"
      ],
      "execution_count": 92,
      "outputs": []
    },
    {
      "cell_type": "code",
      "metadata": {
        "id": "phPRdcTd2YTQ"
      },
      "source": [
        "\n",
        "def learningCurve(history):\n",
        "    plt.figure(figsize=(10,8))\n",
        "    plt.plot(history.history['loss'], linewidth=1)\n",
        "    plt.plot(history.history['val_loss'], linewidth=1)\n",
        "    plt.title('Model Loss over Epochs')\n",
        "    plt.ylabel('Loss')\n",
        "    plt.xlabel('Epoch')\n",
        "    plt.legend(['training sample loss','validation sample loss'])\n",
        "    #plt.savefig('Learning_curve.pdf')\n",
        "    plt.show()\n",
        "    plt.close()"
      ],
      "execution_count": 93,
      "outputs": []
    },
    {
      "cell_type": "code",
      "metadata": {
        "colab": {
          "base_uri": "https://localhost:8080/",
          "height": 513
        },
        "id": "kSV_4SWt2Z12",
        "outputId": "aa6eba4b-38fe-4528-95bd-3c7dd57eb3d4"
      },
      "source": [
        "learningCurve(history)\n"
      ],
      "execution_count": 94,
      "outputs": [
        {
          "output_type": "display_data",
          "data": {
            "image/png": "[encoded data removed]",
            "text/plain": [
              "<Figure size 720x576 with 1 Axes>"
            ]
          },
          "metadata": {
            "tags": [],
            "needs_background": "light"
          }
        }
      ]
    },
    {
      "cell_type": "code",
      "metadata": {
        "id": "8As1m7sU5gmu"
      },
      "source": [
        "labels = ['j_g', 'j_q', 'j_w', 'j_z', 'j_t', 'j_index']\n"
      ],
      "execution_count": 95,
      "outputs": []
    },
    {
      "cell_type": "code",
      "metadata": {
        "id": "QKjDA9JB2bBq"
      },
      "source": [
        "def makeRoc(features_val, labels_val, labels, model, outputDir='', outputSuffix=''):\n",
        "    from sklearn.metrics import roc_curve, auc\n",
        "    labels_pred = model.predict(features_val)\n",
        "    df = pd.DataFrame()\n",
        "    fpr = {}\n",
        "    tpr = {}\n",
        "    auc1 = {}\n",
        "    plt.figure(figsize=(10,8))       \n",
        "    for i, label in enumerate(labels):\n",
        "        if i==5:\n",
        "            break\n",
        "        df[label] = labels_val[:,i]\n",
        "        df[label + '_pred'] = labels_pred[:,i]\n",
        "        fpr[label], tpr[label], threshold = roc_curve(df[label],df[label+'_pred'])\n",
        "        auc1[label] = auc(fpr[label], tpr[label])\n",
        "        plt.plot(fpr[label],tpr[label],label='%s tagger, AUC = %.1f%%'%(label.replace('j_',''),auc1[label]*100.))\n",
        "        \n",
        "    plt.plot([0, 1], [0, 1], lw=1, color='black', linestyle='--')\n",
        "    #plt.semilogy()\n",
        "    plt.xlabel(\"Background Efficiency\")\n",
        "    plt.ylabel(\"Signal Efficiency\")\n",
        "    plt.xlim([-0.05, 1.05])\n",
        "    plt.ylim(0.001,1.05)\n",
        "    plt.grid(True)\n",
        "    plt.legend(loc='lower right')\n",
        "    plt.figtext(0.25, 0.90,'LSTM ROC Curve',fontweight='bold', wrap=True, horizontalalignment='right', fontsize=14)\n",
        "    #plt.figtext(0.35, 0.90,'preliminary', style='italic', wrap=True, horizontalalignment='center', fontsize=14) \n",
        "    #plt.savefig('%sROC_%s.pdf'%(outputDir, outputSuffix))\n",
        "    return labels_pred"
      ],
      "execution_count": 96,
      "outputs": []
    },
    {
      "cell_type": "code",
      "metadata": {
        "colab": {
          "base_uri": "https://localhost:8080/",
          "height": 519
        },
        "id": "CIjJuPF62kSH",
        "outputId": "b83d1267-ed12-47ea-af30-64dd8ccf40d2"
      },
      "source": [
        "y_pred = makeRoc(X_test, y_test, labels, model, outputSuffix='two-layer')\n"
      ],
      "execution_count": 97,
      "outputs": [
        {
          "output_type": "display_data",
          "data": {
            "image/png": "[encoded data removed]",
            "text/plain": [
              "<Figure size 720x576 with 1 Axes>"
            ]
          },
          "metadata": {
            "tags": [],
            "needs_background": "light"
          }
        }
      ]
    },
    {
      "cell_type": "code",
      "metadata": {
        "id": "Mc43XFcZ5p3M"
      },
      "source": [
        "model.save('drive/Shareddrives/Jet Classification/Data/5tagLSTM6Feat.h5', )"
      ],
      "execution_count": 98,
      "outputs": []
    },
    {
      "cell_type": "code",
      "metadata": {
        "id": "kYy9SH4B6Wd7"
      },
      "source": [
        ""
      ],
      "execution_count": null,
      "outputs": []
    }
  ]
}