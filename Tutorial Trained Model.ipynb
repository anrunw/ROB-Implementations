{
 "cells": [
  {
   "cell_type": "markdown",
   "metadata": {},
   "source": [
    "# (4) Training and Validation"
   ]
  },
  {
   "cell_type": "code",
   "execution_count": 11,
   "metadata": {},
   "outputs": [],
   "source": [
    "import tensorflow as tf\n",
    "import keras\n",
    "from keras.layers import Input, Dense\n",
    "from keras.models import Model\n",
    "from keras.optimizers import Adam\n",
    "from sklearn.model_selection import train_test_split\n",
    "import os\n",
    "import h5py\n",
    "import pandas as pd\n",
    "import numpy as np\n",
    "import pickle"
   ]
  },
  {
   "cell_type": "code",
   "execution_count": 12,
   "metadata": {},
   "outputs": [
    {
     "name": "stdout",
     "output_type": "stream",
     "text": [
      "Model: \"model_1\"\n",
      "_________________________________________________________________\n",
      "Layer (type)                 Output Shape              Param #   \n",
      "=================================================================\n",
      "input_2 (InputLayer)         [(None, 16)]              0         \n",
      "_________________________________________________________________\n",
      "fc1_relu (Dense)             (None, 64)                1088      \n",
      "_________________________________________________________________\n",
      "fc2 (Dense)                  (None, 32)                2080      \n",
      "_________________________________________________________________\n",
      "fc3 (Dense)                  (None, 32)                1056      \n",
      "_________________________________________________________________\n",
      "fc4 (Dense)                  (None, 32)                1056      \n",
      "_________________________________________________________________\n",
      "output_sigmoid (Dense)       (None, 5)                 165       \n",
      "=================================================================\n",
      "Total params: 5,445\n",
      "Trainable params: 5,445\n",
      "Non-trainable params: 0\n",
      "_________________________________________________________________\n"
     ]
    }
   ],
   "source": [
    "Inputs = Input(shape=(16,))\n",
    "x = Dense(64, activation='relu', kernel_initializer='lecun_uniform', name='fc1_relu')(Inputs)\n",
    "y = Dense(32, activation='relu', kernel_initializer='lecun_uniform', name = 'fc2')(x)\n",
    "z = Dense(32, activation='relu', kernel_initializer='lecun_uniform', name = 'fc3')(y)\n",
    "a = Dense(32, activation='relu', kernel_initializer='lecun_uniform', name='fc4')(z)\n",
    "predictions = Dense(5, activation='sigmoid', kernel_initializer='lecun_uniform', name = 'output_sigmoid')(a)\n",
    "model = Model(inputs=Inputs, outputs=predictions)\n",
    "model.summary()"
   ]
  },
  {
   "cell_type": "code",
   "execution_count": 13,
   "metadata": {},
   "outputs": [],
   "source": [
    "\n",
    "f = h5py.File('processed-pythia82-lhc13-all-pt1-50k-r1_h022_e0175_t220_nonu_withPars_truth_0.z', 'r')\n",
    "treeArray = f['t_allpar_new'][()]\n",
    "\n",
    "features = ['j_zlogz', 'j_c1_b0_mmdt','j_c1_b1_mmdt', 'j_c1_b2_mmdt' , 'j_c2_b1_mmdt',\n",
    "            'j_c2_b2_mmdt', 'j_d2_b1_mmdt', 'j_d2_b2_mmdt', 'j_d2_a1_b1_mmdt', 'j_d2_a1_b2_mmdt', 'j_m2_b1_mmdt', 'j_m2_b2_mmdt', 'j_n2_b1_mmdt', \n",
    "            'j_n2_b2_mmdt', 'j_mass_mmdt', 'j_multiplicity']\n",
    "labels = ['j_g', 'j_q', 'j_w', 'j_z', 'j_t']\n",
    "features_labels_df = pd.DataFrame(treeArray, columns = features + labels)\n",
    "features_labels_df = features_labels_df.drop_duplicates()\n",
    "features_val = features_labels_df[features].values\n",
    "\n",
    "labels_val = features_labels_df[labels].values\n",
    "\n",
    "X_train, X_test, y_train, y_test = train_test_split(features_val,labels_val,test_size = 0.2, random_state = 42)\n"
   ]
  },
  {
   "cell_type": "code",
   "execution_count": 15,
   "metadata": {},
   "outputs": [
    {
     "data": {
      "text/plain": [
       "array([[-2.58173513e+00,  3.60516220e-01,  6.66159065e-03, ...,\n",
       "         2.37902060e-01,  9.11875439e+00,  5.10000000e+01],\n",
       "       [-2.52301788e+00,  4.17621464e-01,  2.75651854e-03, ...,\n",
       "         2.70587593e-01,  4.91627884e+00,  5.00000000e+01],\n",
       "       [-3.25055408e+00,  4.75789398e-01,  4.47523482e-02, ...,\n",
       "         6.44261613e-02,  9.30914459e+01,  4.10000000e+01],\n",
       "       ...,\n",
       "       [-3.02877426e+00,  4.67739254e-01,  1.06122434e-01, ...,\n",
       "         2.10040629e-01,  1.81831253e+02,  3.90000000e+01],\n",
       "       [-3.04100394e+00,  4.64421332e-01,  4.85292822e-02, ...,\n",
       "         6.81648776e-02,  9.07522278e+01,  4.40000000e+01],\n",
       "       [-3.52587104e+00,  4.74667460e-01,  9.52999294e-02, ...,\n",
       "         1.70399264e-01,  2.04508606e+02,  8.30000000e+01]], dtype=float32)"
      ]
     },
     "execution_count": 15,
     "metadata": {},
     "output_type": "execute_result"
    }
   ],
   "source": [
    "features_val"
   ]
  },
  {
   "cell_type": "code",
   "execution_count": 16,
   "metadata": {},
   "outputs": [
    {
     "data": {
      "text/plain": [
       "(19754, 16)"
      ]
     },
     "execution_count": 16,
     "metadata": {},
     "output_type": "execute_result"
    }
   ],
   "source": [
    "X_test.shape"
   ]
  },
  {
   "cell_type": "code",
   "execution_count": 17,
   "metadata": {},
   "outputs": [
    {
     "data": {
      "text/plain": [
       "(19754, 5)"
      ]
     },
     "execution_count": 17,
     "metadata": {},
     "output_type": "execute_result"
    }
   ],
   "source": [
    "y_test.shape"
   ]
  },
  {
   "cell_type": "code",
   "execution_count": 18,
   "metadata": {},
   "outputs": [],
   "source": [
    "z = np.append(X_test,y_test, axis = 1)"
   ]
  },
  {
   "cell_type": "code",
   "execution_count": 19,
   "metadata": {},
   "outputs": [
    {
     "data": {
      "text/plain": [
       "(19754, 21)"
      ]
     },
     "execution_count": 19,
     "metadata": {},
     "output_type": "execute_result"
    }
   ],
   "source": [
    "z.shape"
   ]
  },
  {
   "cell_type": "code",
   "execution_count": 20,
   "metadata": {},
   "outputs": [
    {
     "data": {
      "text/plain": [
       "(19754, 21)"
      ]
     },
     "execution_count": 20,
     "metadata": {},
     "output_type": "execute_result"
    }
   ],
   "source": [
    "z.shape"
   ]
  },
  {
   "cell_type": "code",
   "execution_count": 21,
   "metadata": {},
   "outputs": [
    {
     "ename": "TypeError",
     "evalue": "write() argument must be str, not bytes",
     "output_type": "error",
     "traceback": [
      "\u001b[0;31m---------------------------------------------------------------------------\u001b[0m",
      "\u001b[0;31mTypeError\u001b[0m                                 Traceback (most recent call last)",
      "\u001b[0;32m<ipython-input-21-b043c3af9725>\u001b[0m in \u001b[0;36m<module>\u001b[0;34m\u001b[0m\n\u001b[0;32m----> 1\u001b[0;31m \u001b[0mpickle\u001b[0m\u001b[0;34m.\u001b[0m\u001b[0mdump\u001b[0m\u001b[0;34m(\u001b[0m\u001b[0mz\u001b[0m\u001b[0;34m,\u001b[0m \u001b[0mopen\u001b[0m\u001b[0;34m(\u001b[0m\u001b[0;34m'robfile.pkl'\u001b[0m\u001b[0;34m,\u001b[0m \u001b[0;34m'w'\u001b[0m\u001b[0;34m)\u001b[0m\u001b[0;34m)\u001b[0m\u001b[0;34m\u001b[0m\u001b[0;34m\u001b[0m\u001b[0m\n\u001b[0m",
      "\u001b[0;31mTypeError\u001b[0m: write() argument must be str, not bytes"
     ]
    }
   ],
   "source": [
    "pickle.dump(z, open('robfile.pkl', 'w'))"
   ]
  },
  {
   "cell_type": "code",
   "execution_count": 22,
   "metadata": {},
   "outputs": [],
   "source": [
    "filename = 'robfile.pkl'"
   ]
  },
  {
   "cell_type": "code",
   "execution_count": 23,
   "metadata": {},
   "outputs": [],
   "source": [
    "with open(filename, 'wb') as filehandler:\n",
    "    pickle.dump(z, filehandler)"
   ]
  },
  {
   "cell_type": "code",
   "execution_count": 24,
   "metadata": {},
   "outputs": [
    {
     "data": {
      "text/plain": [
       "array(['j_zlogz', 'j_c1_b0_mmdt', 'j_c1_b1_mmdt', 'j_c1_b2_mmdt',\n",
       "       'j_c2_b1_mmdt', 'j_c2_b2_mmdt', 'j_d2_b1_mmdt', 'j_d2_b2_mmdt',\n",
       "       'j_d2_a1_b1_mmdt', 'j_d2_a1_b2_mmdt', 'j_m2_b1_mmdt',\n",
       "       'j_m2_b2_mmdt', 'j_n2_b1_mmdt', 'j_n2_b2_mmdt', 'j_mass_mmdt',\n",
       "       'j_multiplicity', 'j_g', 'j_q', 'j_w', 'j_z', 'j_t'], dtype=object)"
      ]
     },
     "execution_count": 24,
     "metadata": {},
     "output_type": "execute_result"
    }
   ],
   "source": [
    "features_labels_df.columns.values"
   ]
  },
  {
   "cell_type": "code",
   "execution_count": 4,
   "metadata": {},
   "outputs": [],
   "source": [
    "X_train, X_test, y_train, y_test = train_test_split(features_val, labels_val, test_size=0.2, random_state=42)"
   ]
  },
  {
   "cell_type": "code",
   "execution_count": 5,
   "metadata": {},
   "outputs": [
    {
     "data": {
      "text/plain": [
       "(79015, 5)"
      ]
     },
     "execution_count": 5,
     "metadata": {},
     "output_type": "execute_result"
    }
   ],
   "source": [
    "y_train.shape"
   ]
  },
  {
   "cell_type": "markdown",
   "metadata": {},
   "source": [
    "## Training"
   ]
  },
  {
   "cell_type": "code",
   "execution_count": 6,
   "metadata": {},
   "outputs": [
    {
     "data": {
      "text/plain": [
       "(79015, 5)"
      ]
     },
     "execution_count": 6,
     "metadata": {},
     "output_type": "execute_result"
    }
   ],
   "source": [
    "y_train.shape"
   ]
  },
  {
   "cell_type": "code",
   "execution_count": 13,
   "metadata": {},
   "outputs": [],
   "source": [
    "adam = Adam(lr=0.02)\n",
    "model.compile(optimizer=adam, loss='binary_crossentropy', metrics=['accuracy'])"
   ]
  },
  {
   "cell_type": "code",
   "execution_count": 14,
   "metadata": {},
   "outputs": [
    {
     "name": "stdout",
     "output_type": "stream",
     "text": [
      "Epoch 1/100\n",
      "58/58 [==============================] - 1s 16ms/step - loss: 0.7133 - accuracy: 0.3747 - val_loss: 0.4113 - val_accuracy: 0.4375\n",
      "Epoch 2/100\n",
      "58/58 [==============================] - 1s 15ms/step - loss: 0.3876 - accuracy: 0.5416 - val_loss: 0.3686 - val_accuracy: 0.5513\n",
      "Epoch 3/100\n",
      "58/58 [==============================] - 1s 17ms/step - loss: 0.3545 - accuracy: 0.6270 - val_loss: 0.3439 - val_accuracy: 0.6207\n",
      "Epoch 4/100\n",
      "58/58 [==============================] - 1s 14ms/step - loss: 0.3423 - accuracy: 0.6330 - val_loss: 0.3377 - val_accuracy: 0.6307\n",
      "Epoch 5/100\n",
      "58/58 [==============================] - 1s 17ms/step - loss: 0.3407 - accuracy: 0.6329 - val_loss: 0.3346 - val_accuracy: 0.6256\n",
      "Epoch 6/100\n",
      "58/58 [==============================] - 1s 18ms/step - loss: 0.3346 - accuracy: 0.6404 - val_loss: 0.3207 - val_accuracy: 0.6756\n",
      "Epoch 7/100\n",
      "58/58 [==============================] - 1s 17ms/step - loss: 0.3286 - accuracy: 0.6524 - val_loss: 0.3180 - val_accuracy: 0.6725\n",
      "Epoch 8/100\n",
      "58/58 [==============================] - 1s 13ms/step - loss: 0.3231 - accuracy: 0.6617 - val_loss: 0.3121 - val_accuracy: 0.6860\n",
      "Epoch 9/100\n",
      "58/58 [==============================] - 1s 15ms/step - loss: 0.3133 - accuracy: 0.6723 - val_loss: 0.3071 - val_accuracy: 0.6840\n",
      "Epoch 10/100\n",
      "58/58 [==============================] - 1s 18ms/step - loss: 0.3051 - accuracy: 0.6813 - val_loss: 0.2965 - val_accuracy: 0.6957\n",
      "Epoch 11/100\n",
      "58/58 [==============================] - 1s 20ms/step - loss: 0.3037 - accuracy: 0.6799 - val_loss: 0.3049 - val_accuracy: 0.6830\n",
      "Epoch 12/100\n",
      "58/58 [==============================] - 2s 27ms/step - loss: 0.2983 - accuracy: 0.6880 - val_loss: 0.2935 - val_accuracy: 0.7018\n",
      "Epoch 13/100\n",
      "58/58 [==============================] - 1s 23ms/step - loss: 0.2915 - accuracy: 0.6961 - val_loss: 0.2892 - val_accuracy: 0.7017\n",
      "Epoch 14/100\n",
      "58/58 [==============================] - 1s 21ms/step - loss: 0.2926 - accuracy: 0.6918 - val_loss: 0.2819 - val_accuracy: 0.7085\n",
      "Epoch 15/100\n",
      "58/58 [==============================] - 1s 19ms/step - loss: 0.2876 - accuracy: 0.6998 - val_loss: 0.2846 - val_accuracy: 0.7036\n",
      "Epoch 16/100\n",
      "58/58 [==============================] - 2s 30ms/step - loss: 0.2857 - accuracy: 0.7004 - val_loss: 0.2749 - val_accuracy: 0.7145\n",
      "Epoch 17/100\n",
      "58/58 [==============================] - 1s 22ms/step - loss: 0.2791 - accuracy: 0.7074 - val_loss: 0.2765 - val_accuracy: 0.7118\n",
      "Epoch 18/100\n",
      "58/58 [==============================] - 1s 26ms/step - loss: 0.2877 - accuracy: 0.6977 - val_loss: 0.2800 - val_accuracy: 0.7105\n",
      "Epoch 19/100\n",
      "58/58 [==============================] - 1s 20ms/step - loss: 0.2773 - accuracy: 0.7093 - val_loss: 0.2729 - val_accuracy: 0.7142\n",
      "Epoch 20/100\n",
      "58/58 [==============================] - 1s 22ms/step - loss: 0.2913 - accuracy: 0.6936 - val_loss: 0.3199 - val_accuracy: 0.6809\n",
      "Epoch 21/100\n",
      "58/58 [==============================] - 1s 20ms/step - loss: 0.3034 - accuracy: 0.6836 - val_loss: 0.2756 - val_accuracy: 0.7133\n",
      "Epoch 22/100\n",
      "58/58 [==============================] - 2s 27ms/step - loss: 0.2768 - accuracy: 0.7124 - val_loss: 0.2798 - val_accuracy: 0.7058\n",
      "Epoch 23/100\n",
      "58/58 [==============================] - 1s 24ms/step - loss: 0.2750 - accuracy: 0.7116 - val_loss: 0.2694 - val_accuracy: 0.7217\n",
      "Epoch 24/100\n",
      "58/58 [==============================] - 1s 20ms/step - loss: 0.2723 - accuracy: 0.7154 - val_loss: 0.2678 - val_accuracy: 0.7214\n",
      "Epoch 25/100\n",
      "58/58 [==============================] - 1s 24ms/step - loss: 0.2753 - accuracy: 0.7105 - val_loss: 0.2723 - val_accuracy: 0.7152\n",
      "Epoch 26/100\n",
      "58/58 [==============================] - 1s 17ms/step - loss: 0.2743 - accuracy: 0.7130 - val_loss: 0.2676 - val_accuracy: 0.7216\n",
      "Epoch 27/100\n",
      "58/58 [==============================] - 1s 19ms/step - loss: 0.2773 - accuracy: 0.7083 - val_loss: 0.2703 - val_accuracy: 0.7175\n",
      "Epoch 28/100\n",
      "58/58 [==============================] - 1s 14ms/step - loss: 0.2707 - accuracy: 0.7161 - val_loss: 0.2724 - val_accuracy: 0.7145\n",
      "Epoch 29/100\n",
      "58/58 [==============================] - 1s 17ms/step - loss: 0.2741 - accuracy: 0.7125 - val_loss: 0.2670 - val_accuracy: 0.7215\n",
      "Epoch 30/100\n",
      "58/58 [==============================] - 1s 17ms/step - loss: 0.2705 - accuracy: 0.7159 - val_loss: 0.2682 - val_accuracy: 0.7157\n",
      "Epoch 31/100\n",
      "58/58 [==============================] - 1s 17ms/step - loss: 0.2714 - accuracy: 0.7143 - val_loss: 0.2700 - val_accuracy: 0.7178\n",
      "Epoch 32/100\n",
      "58/58 [==============================] - 1s 16ms/step - loss: 0.2722 - accuracy: 0.7155 - val_loss: 0.2696 - val_accuracy: 0.7166\n",
      "Epoch 33/100\n",
      "58/58 [==============================] - 1s 19ms/step - loss: 0.2709 - accuracy: 0.7158 - val_loss: 0.2651 - val_accuracy: 0.7231\n",
      "Epoch 34/100\n",
      "58/58 [==============================] - 1s 21ms/step - loss: 0.2711 - accuracy: 0.7163 - val_loss: 0.2654 - val_accuracy: 0.7217\n",
      "Epoch 35/100\n",
      "58/58 [==============================] - 1s 15ms/step - loss: 0.2687 - accuracy: 0.7185 - val_loss: 0.2769 - val_accuracy: 0.7075\n",
      "Epoch 36/100\n",
      "58/58 [==============================] - 1s 17ms/step - loss: 0.2679 - accuracy: 0.7185 - val_loss: 0.2685 - val_accuracy: 0.7206\n",
      "Epoch 37/100\n",
      "58/58 [==============================] - 1s 17ms/step - loss: 0.2747 - accuracy: 0.7108 - val_loss: 0.2746 - val_accuracy: 0.7104\n",
      "Epoch 38/100\n",
      "58/58 [==============================] - 1s 16ms/step - loss: 0.2672 - accuracy: 0.7195 - val_loss: 0.2640 - val_accuracy: 0.7237\n",
      "Epoch 39/100\n",
      "58/58 [==============================] - 1s 23ms/step - loss: 0.2679 - accuracy: 0.7192 - val_loss: 0.2656 - val_accuracy: 0.7196\n",
      "Epoch 40/100\n",
      "58/58 [==============================] - 1s 17ms/step - loss: 0.2694 - accuracy: 0.7173 - val_loss: 0.2685 - val_accuracy: 0.7157\n",
      "Epoch 41/100\n",
      "58/58 [==============================] - 1s 18ms/step - loss: 0.2656 - accuracy: 0.7202 - val_loss: 0.2677 - val_accuracy: 0.7198\n",
      "Epoch 42/100\n",
      "58/58 [==============================] - 1s 13ms/step - loss: 0.2672 - accuracy: 0.7192 - val_loss: 0.2748 - val_accuracy: 0.7161\n",
      "Epoch 43/100\n",
      "58/58 [==============================] - 1s 11ms/step - loss: 0.2729 - accuracy: 0.7123 - val_loss: 0.2630 - val_accuracy: 0.7240\n",
      "Epoch 44/100\n",
      "58/58 [==============================] - 1s 16ms/step - loss: 0.2676 - accuracy: 0.7193 - val_loss: 0.2769 - val_accuracy: 0.7075\n",
      "Epoch 45/100\n",
      "58/58 [==============================] - 1s 16ms/step - loss: 0.2729 - accuracy: 0.7132 - val_loss: 0.2625 - val_accuracy: 0.7224\n",
      "Epoch 46/100\n",
      "58/58 [==============================] - 1s 10ms/step - loss: 0.2685 - accuracy: 0.7176 - val_loss: 0.2651 - val_accuracy: 0.7194\n",
      "Epoch 47/100\n",
      "58/58 [==============================] - 1s 16ms/step - loss: 0.2645 - accuracy: 0.7211 - val_loss: 0.2649 - val_accuracy: 0.7215\n",
      "Epoch 48/100\n",
      "58/58 [==============================] - 1s 15ms/step - loss: 0.2664 - accuracy: 0.7200 - val_loss: 0.2650 - val_accuracy: 0.7216\n",
      "Epoch 49/100\n",
      "58/58 [==============================] - 1s 15ms/step - loss: 0.2736 - accuracy: 0.7115 - val_loss: 0.2952 - val_accuracy: 0.6923\n",
      "Epoch 50/100\n",
      "58/58 [==============================] - 1s 16ms/step - loss: 0.2717 - accuracy: 0.7130 - val_loss: 0.2767 - val_accuracy: 0.7071\n",
      "Epoch 51/100\n",
      "58/58 [==============================] - 1s 18ms/step - loss: 0.2671 - accuracy: 0.7193 - val_loss: 0.2633 - val_accuracy: 0.7225\n",
      "Epoch 52/100\n",
      "58/58 [==============================] - 1s 19ms/step - loss: 0.2650 - accuracy: 0.7215 - val_loss: 0.2842 - val_accuracy: 0.7004\n",
      "Epoch 53/100\n",
      "58/58 [==============================] - 1s 24ms/step - loss: 0.2701 - accuracy: 0.7164 - val_loss: 0.2597 - val_accuracy: 0.7271\n",
      "Epoch 54/100\n",
      "58/58 [==============================] - 1s 18ms/step - loss: 0.2664 - accuracy: 0.7201 - val_loss: 0.2660 - val_accuracy: 0.7201\n",
      "Epoch 55/100\n",
      "58/58 [==============================] - 1s 19ms/step - loss: 0.2644 - accuracy: 0.7215 - val_loss: 0.2640 - val_accuracy: 0.7198\n",
      "Epoch 56/100\n",
      "58/58 [==============================] - 1s 18ms/step - loss: 0.2655 - accuracy: 0.7222 - val_loss: 0.2632 - val_accuracy: 0.7244\n",
      "Epoch 57/100\n",
      "58/58 [==============================] - 1s 24ms/step - loss: 0.2712 - accuracy: 0.7141 - val_loss: 0.2705 - val_accuracy: 0.7138\n",
      "Epoch 58/100\n",
      "58/58 [==============================] - 1s 18ms/step - loss: 0.2631 - accuracy: 0.7227 - val_loss: 0.2623 - val_accuracy: 0.7244\n",
      "Epoch 59/100\n",
      "58/58 [==============================] - 1s 15ms/step - loss: 0.2632 - accuracy: 0.7225 - val_loss: 0.2672 - val_accuracy: 0.7159\n",
      "Epoch 60/100\n",
      "58/58 [==============================] - 1s 19ms/step - loss: 0.2676 - accuracy: 0.7183 - val_loss: 0.2708 - val_accuracy: 0.7181\n",
      "Epoch 61/100\n",
      "58/58 [==============================] - 1s 22ms/step - loss: 0.2707 - accuracy: 0.7152 - val_loss: 0.2633 - val_accuracy: 0.7228\n",
      "Epoch 62/100\n",
      "58/58 [==============================] - 1s 19ms/step - loss: 0.2661 - accuracy: 0.7196 - val_loss: 0.2638 - val_accuracy: 0.7225\n",
      "Epoch 63/100\n",
      "58/58 [==============================] - 1s 19ms/step - loss: 0.2656 - accuracy: 0.7204 - val_loss: 0.2618 - val_accuracy: 0.7265\n",
      "Epoch 64/100\n",
      "58/58 [==============================] - 2s 27ms/step - loss: 0.2647 - accuracy: 0.7204 - val_loss: 0.2613 - val_accuracy: 0.7253\n",
      "Epoch 65/100\n",
      "58/58 [==============================] - 1s 19ms/step - loss: 0.2742 - accuracy: 0.7110 - val_loss: 0.2945 - val_accuracy: 0.6894\n",
      "Epoch 66/100\n",
      "58/58 [==============================] - 1s 20ms/step - loss: 0.2702 - accuracy: 0.7157 - val_loss: 0.2641 - val_accuracy: 0.7231\n",
      "Epoch 67/100\n",
      "58/58 [==============================] - 1s 19ms/step - loss: 0.2660 - accuracy: 0.7203 - val_loss: 0.2599 - val_accuracy: 0.7258\n",
      "Epoch 68/100\n",
      "58/58 [==============================] - 1s 17ms/step - loss: 0.2635 - accuracy: 0.7225 - val_loss: 0.2645 - val_accuracy: 0.7212\n",
      "Epoch 69/100\n",
      "58/58 [==============================] - 1s 19ms/step - loss: 0.2647 - accuracy: 0.7200 - val_loss: 0.2668 - val_accuracy: 0.7208\n",
      "Epoch 70/100\n",
      "58/58 [==============================] - 1s 16ms/step - loss: 0.2637 - accuracy: 0.7215 - val_loss: 0.2609 - val_accuracy: 0.7271\n",
      "Epoch 71/100\n",
      "58/58 [==============================] - 1s 22ms/step - loss: 0.2630 - accuracy: 0.7233 - val_loss: 0.2588 - val_accuracy: 0.7295\n",
      "Epoch 72/100\n",
      "58/58 [==============================] - 1s 18ms/step - loss: 0.2650 - accuracy: 0.7216 - val_loss: 0.2607 - val_accuracy: 0.7273\n",
      "Epoch 73/100\n",
      "58/58 [==============================] - 1s 18ms/step - loss: 0.2656 - accuracy: 0.7202 - val_loss: 0.2651 - val_accuracy: 0.7228\n",
      "Epoch 74/100\n",
      "58/58 [==============================] - 1s 23ms/step - loss: 0.2664 - accuracy: 0.7201 - val_loss: 0.2644 - val_accuracy: 0.7232\n",
      "Epoch 75/100\n",
      "58/58 [==============================] - 1s 19ms/step - loss: 0.2633 - accuracy: 0.7247 - val_loss: 0.2641 - val_accuracy: 0.7229\n",
      "Epoch 76/100\n",
      "58/58 [==============================] - 1s 15ms/step - loss: 0.2641 - accuracy: 0.7227 - val_loss: 0.2597 - val_accuracy: 0.7264\n",
      "Epoch 77/100\n",
      "58/58 [==============================] - 1s 22ms/step - loss: 0.2631 - accuracy: 0.7237 - val_loss: 0.2740 - val_accuracy: 0.7157\n",
      "Epoch 78/100\n",
      "58/58 [==============================] - 1s 19ms/step - loss: 0.2636 - accuracy: 0.7232 - val_loss: 0.2621 - val_accuracy: 0.7261\n",
      "Epoch 79/100\n",
      "58/58 [==============================] - 1s 17ms/step - loss: 0.2643 - accuracy: 0.7208 - val_loss: 0.2675 - val_accuracy: 0.7200\n",
      "Epoch 80/100\n",
      "58/58 [==============================] - 1s 25ms/step - loss: 0.2659 - accuracy: 0.7197 - val_loss: 0.2590 - val_accuracy: 0.7266\n",
      "Epoch 81/100\n",
      "58/58 [==============================] - 2s 29ms/step - loss: 0.2622 - accuracy: 0.7250 - val_loss: 0.2578 - val_accuracy: 0.7281\n",
      "Epoch 82/100\n",
      "58/58 [==============================] - 2s 27ms/step - loss: 0.2616 - accuracy: 0.7247 - val_loss: 0.2634 - val_accuracy: 0.7240\n",
      "Epoch 83/100\n",
      "58/58 [==============================] - 1s 16ms/step - loss: 0.2631 - accuracy: 0.7237 - val_loss: 0.2617 - val_accuracy: 0.7284\n",
      "Epoch 84/100\n",
      "58/58 [==============================] - 1s 17ms/step - loss: 0.2663 - accuracy: 0.7197 - val_loss: 0.2675 - val_accuracy: 0.7191\n",
      "Epoch 85/100\n",
      "58/58 [==============================] - 1s 25ms/step - loss: 0.2636 - accuracy: 0.7228 - val_loss: 0.2705 - val_accuracy: 0.7162\n",
      "Epoch 86/100\n",
      "58/58 [==============================] - 1s 17ms/step - loss: 0.2647 - accuracy: 0.7217 - val_loss: 0.2657 - val_accuracy: 0.7193\n",
      "Epoch 87/100\n",
      "58/58 [==============================] - 1s 16ms/step - loss: 0.2625 - accuracy: 0.7239 - val_loss: 0.2822 - val_accuracy: 0.7030\n",
      "Epoch 88/100\n",
      "58/58 [==============================] - 2s 33ms/step - loss: 0.2689 - accuracy: 0.7185 - val_loss: 0.2614 - val_accuracy: 0.7261\n",
      "Epoch 89/100\n",
      "58/58 [==============================] - 1s 23ms/step - loss: 0.2644 - accuracy: 0.7228 - val_loss: 0.2602 - val_accuracy: 0.7273\n",
      "Epoch 90/100\n",
      "58/58 [==============================] - 1s 17ms/step - loss: 0.2626 - accuracy: 0.7241 - val_loss: 0.2722 - val_accuracy: 0.7157\n",
      "Epoch 91/100\n",
      "58/58 [==============================] - 1s 15ms/step - loss: 0.2665 - accuracy: 0.7206 - val_loss: 0.2796 - val_accuracy: 0.7041\n",
      "Epoch 92/100\n",
      "58/58 [==============================] - 1s 18ms/step - loss: 0.2770 - accuracy: 0.7078 - val_loss: 0.2600 - val_accuracy: 0.7252\n",
      "Epoch 93/100\n",
      "58/58 [==============================] - 2s 26ms/step - loss: 0.2616 - accuracy: 0.7253 - val_loss: 0.2614 - val_accuracy: 0.7252\n",
      "Epoch 94/100\n",
      "58/58 [==============================] - 1s 20ms/step - loss: 0.2620 - accuracy: 0.7239 - val_loss: 0.2590 - val_accuracy: 0.7303\n",
      "Epoch 95/100\n",
      "58/58 [==============================] - 1s 21ms/step - loss: 0.2626 - accuracy: 0.7237 - val_loss: 0.2676 - val_accuracy: 0.7212\n",
      "Epoch 96/100\n",
      "58/58 [==============================] - 1s 18ms/step - loss: 0.2624 - accuracy: 0.7241 - val_loss: 0.2593 - val_accuracy: 0.7281\n",
      "Epoch 97/100\n",
      "58/58 [==============================] - 1s 21ms/step - loss: 0.2714 - accuracy: 0.7139 - val_loss: 0.2616 - val_accuracy: 0.7254\n",
      "Epoch 98/100\n",
      "58/58 [==============================] - 1s 20ms/step - loss: 0.2619 - accuracy: 0.7247 - val_loss: 0.2706 - val_accuracy: 0.7168\n",
      "Epoch 99/100\n",
      "58/58 [==============================] - 1s 20ms/step - loss: 0.2656 - accuracy: 0.7219 - val_loss: 0.2587 - val_accuracy: 0.7285\n",
      "Epoch 100/100\n",
      "58/58 [==============================] - 1s 16ms/step - loss: 0.2619 - accuracy: 0.7249 - val_loss: 0.2576 - val_accuracy: 0.7317\n"
     ]
    }
   ],
   "source": [
    "history2 = model.fit(X_train, y_train, batch_size = 1024, epochs = 100, \n",
    "                    validation_split = 0.25, shuffle = True, callbacks = None,\n",
    "                    use_multiprocessing=True, workers=4)"
   ]
  },
  {
   "cell_type": "code",
   "execution_count": null,
   "metadata": {
    "scrolled": false
   },
   "outputs": [],
   "source": [
    "history = model.fit(X_train, y_train, batch_size = 1024, epochs = 400, \n",
    "                    validation_split = 0.25, shuffle = True, callbacks = None,\n",
    "                    use_multiprocessing=True, workers=4)"
   ]
  },
  {
   "cell_type": "code",
   "execution_count": 21,
   "metadata": {},
   "outputs": [
    {
     "name": "stdout",
     "output_type": "stream",
     "text": [
      "INFO:tensorflow:Assets written to: 4-layer/assets\n"
     ]
    }
   ],
   "source": [
    "model.save('4-layer') #Saves to local directory; model file 'two-layer' with no extension"
   ]
  },
  {
   "cell_type": "code",
   "execution_count": 22,
   "metadata": {},
   "outputs": [],
   "source": [
    "loaded_model = keras.models.load_model('4-layer') #Loads from local directory"
   ]
  },
  {
   "cell_type": "code",
   "execution_count": 23,
   "metadata": {},
   "outputs": [
    {
     "name": "stdout",
     "output_type": "stream",
     "text": [
      "Model: \"functional_1\"\n",
      "_________________________________________________________________\n",
      "Layer (type)                 Output Shape              Param #   \n",
      "=================================================================\n",
      "input_1 (InputLayer)         [(None, 16)]              0         \n",
      "_________________________________________________________________\n",
      "fc1_relu (Dense)             (None, 64)                1088      \n",
      "_________________________________________________________________\n",
      "fc2 (Dense)                  (None, 32)                2080      \n",
      "_________________________________________________________________\n",
      "fc3 (Dense)                  (None, 32)                1056      \n",
      "_________________________________________________________________\n",
      "fc4 (Dense)                  (None, 32)                1056      \n",
      "_________________________________________________________________\n",
      "output_sigmoid (Dense)       (None, 5)                 165       \n",
      "=================================================================\n",
      "Total params: 5,445\n",
      "Trainable params: 5,445\n",
      "Non-trainable params: 0\n",
      "_________________________________________________________________\n"
     ]
    }
   ],
   "source": [
    "loaded_model.summary()"
   ]
  },
  {
   "cell_type": "markdown",
   "metadata": {},
   "source": [
    "## Validation"
   ]
  },
  {
   "cell_type": "code",
   "execution_count": 24,
   "metadata": {},
   "outputs": [],
   "source": [
    "import matplotlib.pyplot as plt"
   ]
  },
  {
   "cell_type": "code",
   "execution_count": 25,
   "metadata": {},
   "outputs": [],
   "source": [
    "def learningCurve(history):\n",
    "    plt.figure(figsize=(10,8))\n",
    "    plt.plot(history.history['loss'], linewidth=1)\n",
    "    plt.plot(history.history['val_loss'], linewidth=1)\n",
    "    plt.title('Model Loss over Epochs')\n",
    "    plt.ylabel('Loss')\n",
    "    plt.xlabel('Epoch')\n",
    "    plt.legend(['training sample loss','validation sample loss'])\n",
    "    #plt.savefig('Learning_curve.pdf')\n",
    "    plt.show()\n",
    "    plt.close()"
   ]
  },
  {
   "cell_type": "code",
   "execution_count": 26,
   "metadata": {},
   "outputs": [
    {
     "data": {
      "image/png": "[encoded data removed]",
      "text/plain": [
       "<Figure size 720x576 with 1 Axes>"
      ]
     },
     "metadata": {
      "needs_background": "light"
     },
     "output_type": "display_data"
    }
   ],
   "source": [
    "learningCurve(history)"
   ]
  },
  {
   "cell_type": "code",
   "execution_count": 27,
   "metadata": {},
   "outputs": [
    {
     "data": {
      "text/plain": [
       "(98769, 16)"
      ]
     },
     "execution_count": 27,
     "metadata": {},
     "output_type": "execute_result"
    }
   ],
   "source": [
    "features_val.shape"
   ]
  },
  {
   "cell_type": "code",
   "execution_count": 28,
   "metadata": {},
   "outputs": [],
   "source": [
    "labels_pred = model.predict(features_val)"
   ]
  },
  {
   "cell_type": "code",
   "execution_count": 29,
   "metadata": {},
   "outputs": [],
   "source": [
    "def makeRoc(features_val, labels_val, labels, model, outputDir='', outputSuffix=''):\n",
    "    from sklearn.metrics import roc_curve, auc\n",
    "    labels_pred = model.predict(features_val)\n",
    "    df = pd.DataFrame()\n",
    "    fpr = {}\n",
    "    tpr = {}\n",
    "    auc1 = {}\n",
    "    plt.figure(figsize=(10,8))       \n",
    "    for i, label in enumerate(labels):\n",
    "        df[label] = labels_val[:,i]\n",
    "        df[label + '_pred'] = labels_pred[:,i]\n",
    "        fpr[label], tpr[label], threshold = roc_curve(df[label],df[label+'_pred'])\n",
    "        auc1[label] = auc(fpr[label], tpr[label])\n",
    "        plt.plot(fpr[label],tpr[label],label='%s tagger, AUC = %.1f%%'%(label.replace('j_',''),auc1[label]*100.))\n",
    "    plt.plot([0, 1], [0, 1], lw=1, color='black', linestyle='--')\n",
    "    #plt.semilogy()\n",
    "    plt.xlabel(\"Background Efficiency\")\n",
    "    plt.ylabel(\"Signal Efficiency\")\n",
    "    plt.xlim([-0.05, 1.05])\n",
    "    plt.ylim(0.001,1.05)\n",
    "    plt.grid(True)\n",
    "    plt.legend(loc='lower right')\n",
    "    plt.figtext(0.25, 0.90,'LSTM ROC Curve',fontweight='bold', wrap=True, horizontalalignment='right', fontsize=14)\n",
    "    #plt.figtext(0.35, 0.90,'preliminary', style='italic', wrap=True, horizontalalignment='center', fontsize=14) \n",
    "    #plt.savefig('%sROC_%s.pdf'%(outputDir, outputSuffix))\n",
    "    return labels_pred"
   ]
  },
  {
   "cell_type": "code",
   "execution_count": 30,
   "metadata": {},
   "outputs": [
    {
     "data": {
      "image/png": "[encoded data removed]",
      "text/plain": [
       "<Figure size 720x576 with 1 Axes>"
      ]
     },
     "metadata": {
      "needs_background": "light"
     },
     "output_type": "display_data"
    }
   ],
   "source": [
    "y_pred = makeRoc(X_test, y_test, labels, model, outputSuffix='two-layer')"
   ]
  },
  {
   "cell_type": "code",
   "execution_count": 15,
   "metadata": {},
   "outputs": [],
   "source": [
    "\n",
    "model.save('model.h5')"
   ]
  },
  {
   "cell_type": "code",
   "execution_count": null,
   "metadata": {},
   "outputs": [],
   "source": []
  }
 ],
 "metadata": {
  "kernelspec": {
   "display_name": "Python 3",
   "language": "python",
   "name": "python3"
  },
  "language_info": {
   "codemirror_mode": {
    "name": "ipython",
    "version": 3
   },
   "file_extension": ".py",
   "mimetype": "text/x-python",
   "name": "python",
   "nbconvert_exporter": "python",
   "pygments_lexer": "ipython3",
   "version": "3.7.9"
  }
 },
 "nbformat": 4,
 "nbformat_minor": 4
}
