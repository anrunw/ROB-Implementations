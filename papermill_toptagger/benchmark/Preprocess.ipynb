{
 "cells": [
  {
   "cell_type": "code",
   "execution_count": 1,
   "id": "transparent-merit",
   "metadata": {},
   "outputs": [],
   "source": [
    "import papermill as pm\n",
    "import logging\n",
    "import os\n",
    "import sys\n",
    "import code.dataset.preprocess as pf\n",
    "import code.recnn.preprocess as recnn"
   ]
  },
  {
   "cell_type": "code",
   "execution_count": null,
   "id": "experimental-scheduling",
   "metadata": {
    "tags": [
     "parameters"
    ]
   },
   "outputs": [],
   "source": [
    "input_jets_file = 'data/test_jets.pkl'\n",
    "card_file = 'data/preprocess/jet_image_trim_pt800-900_card.dat'\n",
    "out_dir = 'data/results'\n",
    "transformer_file = 'data/preprocess/transformer.pkl'\n"
   ]
  },
  {
   "cell_type": "code",
   "execution_count": null,
   "id": "mexican-myrtle",
   "metadata": {},
   "outputs": [],
   "source": [
    " pf.run( \n",
    "        card_file=card_file,\n",
    "        input_jets_file=input_jets_file,\n",
    "        out_file=out_dir\n",
    "    )"
   ]
  },
  {
   "cell_type": "code",
   "execution_count": null,
   "id": "rubber-newark",
   "metadata": {},
   "outputs": [],
   "source": []
  },
  {
   "cell_type": "code",
   "execution_count": null,
   "id": "bound-proof",
   "metadata": {},
   "outputs": [],
   "source": []
  }
 ],
 "metadata": {
  "celltoolbar": "Tags",
  "kernelspec": {
   "display_name": "Python 3",
   "language": "python",
   "name": "python3"
  },
  "language_info": {
   "codemirror_mode": {
    "name": "ipython",
    "version": 3
   },
   "file_extension": ".py",
   "mimetype": "text/x-python",
   "name": "python",
   "nbconvert_exporter": "python",
   "pygments_lexer": "ipython3",
   "version": "3.9.1"
  }
 },
 "nbformat": 4,
 "nbformat_minor": 5
}
