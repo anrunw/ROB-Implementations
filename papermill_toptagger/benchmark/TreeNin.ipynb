{
 "cells": [
  {
   "cell_type": "code",
   "execution_count": null,
   "id": "controversial-understanding",
   "metadata": {},
   "outputs": [],
   "source": [
    "import code.evaluate_models as eval\n",
    "import numpy as np\n",
    "import os\n",
    "import code.files as fn\n",
    "import code.recnn.evaluate as eval\n",
    "import code.recnn.utils as utils"
   ]
  },
  {
   "cell_type": "code",
   "execution_count": null,
   "id": "stuck-point",
   "metadata": {
    "tags": [
     "parameters"
    ]
   },
   "outputs": [],
   "source": [
    "tree_file = 'data/results/tree_test_jets.pkl'\n",
    "output_dir = 'data/evaluate/ results/'\n",
    "algorithm = 'NiNRecNNReLU'\n",
    "restore = 'best'\n",
    "data_dir = 'data/evaluate'\n",
    "n_start = 3\n",
    "n_finish = 9"
   ]
  },
  {
   "cell_type": "code",
   "execution_count": null,
   "id": "hawaiian-harvest",
   "metadata": {},
   "outputs": [],
   "source": [
    "for n_run in np.arange(n_start, n_finish):\n",
    "    run_id = '{}{}'.format(fn.RUN_DIR_PREFIX, n_run)\n",
    "    run_dir = os.path.join(data_dir, run_id)\n",
    "    restore_file = os.path.join(run_dir, '{}.pth.tar'.format(restore))\n",
    "    eval.run(\n",
    "        tree_file=tree_file,\n",
    "        params=utils.Params(os.path.join(run_dir, fn.PARAMS_FILE)),\n",
    "        architecture=algorithm,\n",
    "        restore_file=restore_file,\n",
    "        output_dir=output_dir)"
   ]
  },
  {
   "cell_type": "code",
   "execution_count": null,
   "id": "drawn-oklahoma",
   "metadata": {},
   "outputs": [],
   "source": [
    "\n"
   ]
  },
  {
   "cell_type": "code",
   "execution_count": null,
   "id": "exact-compound",
   "metadata": {},
   "outputs": [],
   "source": []
  }
 ],
 "metadata": {
  "celltoolbar": "Tags",
  "kernelspec": {
   "display_name": "Python 3",
   "language": "python",
   "name": "python3"
  },
  "language_info": {
   "codemirror_mode": {
    "name": "ipython",
    "version": 3
   },
   "file_extension": ".py",
   "mimetype": "text/x-python",
   "name": "python",
   "nbconvert_exporter": "python",
   "pygments_lexer": "ipython3",
   "version": "3.9.1"
  }
 },
 "nbformat": 4,
 "nbformat_minor": 5
}
